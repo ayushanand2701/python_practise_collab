{
  "nbformat": 4,
  "nbformat_minor": 0,
  "metadata": {
    "colab": {
      "name": "predifined functions.ipynb",
      "provenance": []
    },
    "kernelspec": {
      "name": "python3",
      "display_name": "Python 3"
    },
    "language_info": {
      "name": "python"
    }
  },
  "cells": [
    {
      "cell_type": "code",
      "execution_count": null,
      "metadata": {
        "colab": {
          "base_uri": "https://localhost:8080/",
          "height": 35
        },
        "id": "tskaOhXtBo19",
        "outputId": "5ba9ffbf-50f1-4b46-a5cd-bd3b429b7d47"
      },
      "outputs": [
        {
          "output_type": "execute_result",
          "data": {
            "text/plain": [
              "'ayush     kumar'"
            ],
            "application/vnd.google.colaboratory.intrinsic+json": {
              "type": "string"
            }
          },
          "metadata": {},
          "execution_count": 8
        }
      ],
      "source": [
        "s=\"ayush\\tkumar\"\n",
        "s.expandtabs(10)"
      ]
    },
    {
      "cell_type": "code",
      "source": [
        "ad=\"abc pqr\"\n",
        "ad.replace(\"abc\",\"xyz\")"
      ],
      "metadata": {
        "colab": {
          "base_uri": "https://localhost:8080/",
          "height": 35
        },
        "id": "Fnq8JhDMKbEW",
        "outputId": "ea8aff66-7a04-4da7-8e92-8886a256305f"
      },
      "execution_count": null,
      "outputs": [
        {
          "output_type": "execute_result",
          "data": {
            "text/plain": [
              "'xyz pqr'"
            ],
            "application/vnd.google.colaboratory.intrinsic+json": {
              "type": "string"
            }
          },
          "metadata": {},
          "execution_count": 10
        }
      ]
    },
    {
      "cell_type": "code",
      "source": [
        "n=\"coder\"\n",
        "n.center(10,'@')"
      ],
      "metadata": {
        "colab": {
          "base_uri": "https://localhost:8080/",
          "height": 35
        },
        "id": "nm_rkrDkLB4V",
        "outputId": "3ed587ee-b2f7-461a-8363-9b07ea86ef9a"
      },
      "execution_count": null,
      "outputs": [
        {
          "output_type": "execute_result",
          "data": {
            "text/plain": [
              "'@@coder@@@'"
            ],
            "application/vnd.google.colaboratory.intrinsic+json": {
              "type": "string"
            }
          },
          "metadata": {},
          "execution_count": 13
        }
      ]
    },
    {
      "cell_type": "code",
      "source": [
        "l=[3,4,5,6,[23,4456,67,78,89],\"sudh\",{\"key1\":\"value1\"}]"
      ],
      "metadata": {
        "id": "3XK9l5xVLWVg"
      },
      "execution_count": null,
      "outputs": []
    },
    {
      "cell_type": "code",
      "source": [
        "l.reverse()"
      ],
      "metadata": {
        "id": "UvnyTrsZR3sJ"
      },
      "execution_count": null,
      "outputs": []
    },
    {
      "cell_type": "code",
      "source": [
        "l"
      ],
      "metadata": {
        "colab": {
          "base_uri": "https://localhost:8080/"
        },
        "id": "QrX8lcRESBrf",
        "outputId": "8de9de3e-f08a-4515-8071-9229c3abafc0"
      },
      "execution_count": null,
      "outputs": [
        {
          "output_type": "execute_result",
          "data": {
            "text/plain": [
              "[{'key1': 'value1'}, 'sudh', [23, 4456, 67, 78, 89], 6, 5, 4, 3]"
            ]
          },
          "metadata": {},
          "execution_count": 18
        }
      ]
    },
    {
      "cell_type": "code",
      "source": [
        "l[::-1]"
      ],
      "metadata": {
        "colab": {
          "base_uri": "https://localhost:8080/"
        },
        "id": "RNFg4ihJSDpB",
        "outputId": "e6c90591-59c3-4abd-a018-4aa23b725441"
      },
      "execution_count": null,
      "outputs": [
        {
          "output_type": "execute_result",
          "data": {
            "text/plain": [
              "[3, 4, 5, 6, [23, 4456, 67, 78, 89], 'sudh', {'key1': 'value1'}]"
            ]
          },
          "metadata": {},
          "execution_count": 20
        }
      ]
    },
    {
      "cell_type": "code",
      "source": [
        "#try to acess 23\n",
        "l"
      ],
      "metadata": {
        "colab": {
          "base_uri": "https://localhost:8080/"
        },
        "id": "5E9HjlTKSG-8",
        "outputId": "5a3e5975-9919-4c2a-bc56-a70e00519167"
      },
      "execution_count": null,
      "outputs": [
        {
          "output_type": "execute_result",
          "data": {
            "text/plain": [
              "[{'key1': 'value1'}, 'sudh', [23, 4456, 67, 78, 89], 6, 5, 4, 3]"
            ]
          },
          "metadata": {},
          "execution_count": 24
        }
      ]
    },
    {
      "cell_type": "code",
      "source": [
        "l[2][0]"
      ],
      "metadata": {
        "colab": {
          "base_uri": "https://localhost:8080/"
        },
        "id": "rKudiSGZSnIO",
        "outputId": "5c474b0c-d73d-4328-ce78-3d86cfa05002"
      },
      "execution_count": null,
      "outputs": [
        {
          "output_type": "execute_result",
          "data": {
            "text/plain": [
              "23"
            ]
          },
          "metadata": {},
          "execution_count": 25
        }
      ]
    },
    {
      "cell_type": "code",
      "source": [
        "l[2][1]"
      ],
      "metadata": {
        "colab": {
          "base_uri": "https://localhost:8080/"
        },
        "id": "FXVCD4-6bQWZ",
        "outputId": "c3e4e987-7d41-4473-cd63-e8edfe7b0aec"
      },
      "execution_count": null,
      "outputs": [
        {
          "output_type": "execute_result",
          "data": {
            "text/plain": [
              "4456"
            ]
          },
          "metadata": {},
          "execution_count": 26
        }
      ]
    },
    {
      "cell_type": "code",
      "source": [
        "l[1]"
      ],
      "metadata": {
        "colab": {
          "base_uri": "https://localhost:8080/",
          "height": 35
        },
        "id": "SKfFkUYwbUW6",
        "outputId": "4c942718-a631-4335-e415-fda626ff0399"
      },
      "execution_count": null,
      "outputs": [
        {
          "output_type": "execute_result",
          "data": {
            "text/plain": [
              "'sudh'"
            ],
            "application/vnd.google.colaboratory.intrinsic+json": {
              "type": "string"
            }
          },
          "metadata": {},
          "execution_count": 27
        }
      ]
    },
    {
      "cell_type": "code",
      "source": [
        "l[0].keys()"
      ],
      "metadata": {
        "colab": {
          "base_uri": "https://localhost:8080/"
        },
        "id": "if2jLcUWbeaw",
        "outputId": "1afafe18-76eb-4788-c62e-083cf8d73e2c"
      },
      "execution_count": null,
      "outputs": [
        {
          "output_type": "execute_result",
          "data": {
            "text/plain": [
              "dict_keys(['key1'])"
            ]
          },
          "metadata": {},
          "execution_count": 30
        }
      ]
    },
    {
      "cell_type": "code",
      "source": [
        "#pattern printing"
      ],
      "metadata": {
        "id": "F634JqLDbiOf"
      },
      "execution_count": null,
      "outputs": []
    },
    {
      "cell_type": "code",
      "source": [
        "n=5\n",
        "for i in range(n):\n",
        "  for j in range(i):\n",
        "    print(\"ineuron\",end=\" \")\n",
        "  print()"
      ],
      "metadata": {
        "colab": {
          "base_uri": "https://localhost:8080/"
        },
        "id": "BmIexxgnb2Rt",
        "outputId": "35cdd003-03c6-407f-f3ca-d6f15b38edcb"
      },
      "execution_count": null,
      "outputs": [
        {
          "output_type": "stream",
          "name": "stdout",
          "text": [
            "\n",
            "ineuron \n",
            "ineuron ineuron \n",
            "ineuron ineuron ineuron \n",
            "ineuron ineuron ineuron ineuron \n"
          ]
        }
      ]
    },
    {
      "cell_type": "code",
      "source": [
        "n=6\n",
        "for i in range(n):   #0,1,2,3,4,5\n",
        "  if i<=3:\n",
        "    n=i   \n",
        "  else:\n",
        "    n=6-i           #           #checks for 0,1,2,3\n",
        "  print((\"ineuron \"*n).center(50,' '))\n"
      ],
      "metadata": {
        "colab": {
          "base_uri": "https://localhost:8080/"
        },
        "id": "qL02vCMCcDMP",
        "outputId": "50dcc805-82eb-4c99-b863-7e5ad5a9691d"
      },
      "execution_count": null,
      "outputs": [
        {
          "output_type": "stream",
          "name": "stdout",
          "text": [
            "                                                  \n",
            "                     ineuron                      \n",
            "                 ineuron ineuron                  \n",
            "             ineuron ineuron ineuron              \n",
            "                 ineuron ineuron                  \n",
            "                     ineuron                      \n"
          ]
        }
      ]
    },
    {
      "cell_type": "code",
      "source": [
        "l=[1,2,3,4,(1,2,34,4,5),\"sudh\",set([23,45,67,43,56,78]),{\"key1\":\"value1\",\"key\":\"value2\"}]"
      ],
      "metadata": {
        "id": "Ge8zc5dpdLK9"
      },
      "execution_count": null,
      "outputs": []
    },
    {
      "cell_type": "code",
      "source": [
        "l1=[]\n",
        "for i in l:\n",
        "  if type(i)==set or type(i)==tuple or type(i)==set:\n",
        "    for j in i:\n",
        "      if type(j)==int:\n",
        "        l1.append(j)\n",
        "    for type(i)==dic:\n",
        "          for k in i.items() :\n",
        "            for g in k:\n",
        "              if type(g)==int:\n",
        "              l1.append(g)"
      ],
      "metadata": {
        "colab": {
          "base_uri": "https://localhost:8080/",
          "height": 131
        },
        "id": "osgtrOhTv7ZC",
        "outputId": "37f72ebe-6a25-4583-df36-8ad1fa6be2ae"
      },
      "execution_count": null,
      "outputs": [
        {
          "output_type": "error",
          "ename": "SyntaxError",
          "evalue": "ignored",
          "traceback": [
            "\u001b[0;36m  File \u001b[0;32m\"<ipython-input-3-b829652d4321>\"\u001b[0;36m, line \u001b[0;32m7\u001b[0m\n\u001b[0;31m    for type(i)==dic:\u001b[0m\n\u001b[0m                ^\u001b[0m\n\u001b[0;31mSyntaxError\u001b[0m\u001b[0;31m:\u001b[0m invalid syntax\n"
          ]
        }
      ]
    },
    {
      "cell_type": "code",
      "source": [
        "l1"
      ],
      "metadata": {
        "colab": {
          "base_uri": "https://localhost:8080/"
        },
        "id": "xwhxwNjryu5F",
        "outputId": "8fe05394-2d17-4479-cdda-bd324285e61f"
      },
      "execution_count": null,
      "outputs": [
        {
          "output_type": "execute_result",
          "data": {
            "text/plain": [
              "[1, 2, 34, 4, 5, 67, 43, 45, 78, 23, 56]"
            ]
          },
          "metadata": {},
          "execution_count": 8
        }
      ]
    },
    {
      "cell_type": "code",
      "source": [
        ""
      ],
      "metadata": {
        "id": "Q2z583bPzJxS"
      },
      "execution_count": null,
      "outputs": []
    }
  ]
}