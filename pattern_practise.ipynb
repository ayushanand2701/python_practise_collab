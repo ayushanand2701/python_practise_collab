{
  "nbformat": 4,
  "nbformat_minor": 0,
  "metadata": {
    "colab": {
      "name": "pattern practise.ipynb",
      "provenance": []
    },
    "kernelspec": {
      "name": "python3",
      "display_name": "Python 3"
    },
    "language_info": {
      "name": "python"
    }
  },
  "cells": [
    {
      "cell_type": "code",
      "execution_count": null,
      "metadata": {
        "colab": {
          "base_uri": "https://localhost:8080/"
        },
        "id": "_fVQo11w1dRs",
        "outputId": "de54b0b7-bc5a-4ceb-d047-d3184977b634"
      },
      "outputs": [
        {
          "output_type": "stream",
          "name": "stdout",
          "text": [
            "ineuron ineuron ineuron ineuron ineuron ineuron ineuron ineuron ineuron ineuron "
          ]
        }
      ],
      "source": [
        "n=5 \n",
        "for i in range(n):   #0,1,2,3,4\n",
        "  for j in range(i): #0,1,2,3,4\n",
        "    print(\"ineuron\",end=\" \")\n",
        "  "
      ]
    },
    {
      "cell_type": "code",
      "source": [
        "n=5\n",
        "for i in range(n):   #0,1,2,3,4\n",
        "  print(\" \"*(n-i),end=\"*\"*i)\n",
        "  print()\n",
        "  "
      ],
      "metadata": {
        "colab": {
          "base_uri": "https://localhost:8080/"
        },
        "id": "gLnCqe-X1xzA",
        "outputId": "f2498bd3-243f-4484-c350-139c5db167f5"
      },
      "execution_count": null,
      "outputs": [
        {
          "output_type": "stream",
          "name": "stdout",
          "text": [
            "     \n",
            "    *\n",
            "   **\n",
            "  ***\n",
            " ****\n"
          ]
        }
      ]
    },
    {
      "cell_type": "code",
      "source": [
        "n=5\n",
        "for i in range(n):\n",
        "  for j in range(i+1):\n",
        "    print(end=\"* \")\n",
        "  print()\n",
        "for i in range(n):\n",
        "  for j in range(i,n):\n",
        "    print(end=\"* \")\n",
        "  print()\n"
      ],
      "metadata": {
        "colab": {
          "base_uri": "https://localhost:8080/"
        },
        "id": "aNdiLtWm3uPq",
        "outputId": "a659fa19-1d4e-4124-d41d-59115df71cb8"
      },
      "execution_count": null,
      "outputs": [
        {
          "output_type": "stream",
          "name": "stdout",
          "text": [
            "* \n",
            "* * \n",
            "* * * \n",
            "* * * * \n",
            "* * * * * \n",
            "* * * * * \n",
            "* * * * \n",
            "* * * \n",
            "* * \n",
            "* \n"
          ]
        }
      ]
    },
    {
      "cell_type": "code",
      "source": [
        "n=5\n",
        "for i in range(n,0,-1):\n",
        "  print(\" \"*(2*(n+1-1))+\"*\"*(n+1-i))"
      ],
      "metadata": {
        "colab": {
          "base_uri": "https://localhost:8080/"
        },
        "id": "t0c6VzWMBJbC",
        "outputId": "a05c4817-6b3a-4275-8874-6fde18dfb4e1"
      },
      "execution_count": null,
      "outputs": [
        {
          "output_type": "stream",
          "name": "stdout",
          "text": [
            "          *\n",
            "          **\n",
            "          ***\n",
            "          ****\n",
            "          *****\n"
          ]
        }
      ]
    },
    {
      "cell_type": "code",
      "source": [
        "n=6\n",
        "for i in range(n):\n",
        "  for j in range(n):\n",
        "    if(i==0 or i==n-1 or j==0 or j==n-1):\n",
        "      print(\"*\",end=\" \")\n",
        "    else:\n",
        "      print(\" \",end=\" \")\n",
        "  print() "
      ],
      "metadata": {
        "colab": {
          "base_uri": "https://localhost:8080/"
        },
        "id": "OkEYxR3JQTvR",
        "outputId": "d2658668-3a88-4fed-f03d-feb541ed152d"
      },
      "execution_count": null,
      "outputs": [
        {
          "output_type": "stream",
          "name": "stdout",
          "text": [
            "* * * * * * \n",
            "*         * \n",
            "*         * \n",
            "*         * \n",
            "*         * \n",
            "* * * * * * \n"
          ]
        }
      ]
    },
    {
      "cell_type": "code",
      "source": [
        "n=3\n",
        "b=6\n",
        "for i in range(n):\n",
        "  for j in range(b):\n",
        "    if(i==0 or i==n-1 or j==0 or j==b-1):\n",
        "      print(\"*\",end=\" \")\n",
        "    else:\n",
        "      print(\" \",end=\" \")\n",
        "  print() "
      ],
      "metadata": {
        "colab": {
          "base_uri": "https://localhost:8080/"
        },
        "id": "pDQOxrlHZ41s",
        "outputId": "3e3d2a43-8a66-478d-8359-ef029f47cd9f"
      },
      "execution_count": null,
      "outputs": [
        {
          "output_type": "stream",
          "name": "stdout",
          "text": [
            "* * * * * * \n",
            "*         * \n",
            "* * * * * * \n"
          ]
        }
      ]
    },
    {
      "cell_type": "code",
      "source": [
        "n=5\n",
        "for i in range(n):\n",
        "  print(\"i\"*(n-i),end=\" \")\n",
        "  print()\n",
        " "
      ],
      "metadata": {
        "colab": {
          "base_uri": "https://localhost:8080/"
        },
        "id": "k3hW2PwKdC38",
        "outputId": "84273ce3-cafd-46d9-baac-398441f344f1"
      },
      "execution_count": null,
      "outputs": [
        {
          "output_type": "stream",
          "name": "stdout",
          "text": [
            "iiiii \n",
            "iiii \n",
            "iii \n",
            "ii \n",
            "i \n"
          ]
        }
      ]
    },
    {
      "cell_type": "code",
      "source": [
        "for i in range(0,5):\n",
        "  even=10\n",
        "  for j in range(0,i+1):\n",
        "    print(even,\" \",end=\" \")\n",
        "    even=even-2\n",
        "  print()\n"
      ],
      "metadata": {
        "colab": {
          "base_uri": "https://localhost:8080/"
        },
        "id": "VrOXnMQUd6MG",
        "outputId": "703efbb3-5ba2-4a6a-edec-417ccf509a54"
      },
      "execution_count": null,
      "outputs": [
        {
          "output_type": "stream",
          "name": "stdout",
          "text": [
            "10   \n",
            "10   8   \n",
            "10   8   6   \n",
            "10   8   6   4   \n",
            "10   8   6   4   2   \n"
          ]
        }
      ]
    },
    {
      "cell_type": "code",
      "source": [
        "for i in range(0,8):\n",
        "  for j in range(0,i+1):\n",
        "    print(i*j,\" \",end=\" \")\n",
        "  print()  "
      ],
      "metadata": {
        "colab": {
          "base_uri": "https://localhost:8080/"
        },
        "id": "CETRmiMtNZE0",
        "outputId": "159799de-339a-4938-86d6-6cc2e4cb0b0d"
      },
      "execution_count": null,
      "outputs": [
        {
          "output_type": "stream",
          "name": "stdout",
          "text": [
            "0   \n",
            "0   1   \n",
            "0   2   4   \n",
            "0   3   6   9   \n",
            "0   4   8   12   16   \n",
            "0   5   10   15   20   25   \n",
            "0   6   12   18   24   30   36   \n",
            "0   7   14   21   28   35   42   49   \n"
          ]
        }
      ]
    },
    {
      "cell_type": "code",
      "source": [
        "1 \n",
        "\n",
        "3 3 \n",
        "\n",
        "5 5 5 \n",
        "\n",
        "7 7 7 7 \n",
        "\n",
        "9 9 9 9 9"
      ],
      "metadata": {
        "id": "m9Ax7vgANz0Y"
      },
      "execution_count": null,
      "outputs": []
    },
    {
      "cell_type": "code",
      "source": [
        "for i in range(0,5):\n",
        "  for j in range(0,i):\n",
        "    print(((i*2)-1),\" \",end=\" \")\n",
        "  print()  "
      ],
      "metadata": {
        "colab": {
          "base_uri": "https://localhost:8080/"
        },
        "id": "YFC6_yGJN60T",
        "outputId": "5c7640e3-0ebb-4151-f700-47f5e3d3d4de"
      },
      "execution_count": null,
      "outputs": [
        {
          "output_type": "stream",
          "name": "stdout",
          "text": [
            "\n",
            "1   \n",
            "3   3   \n",
            "5   5   5   \n",
            "7   7   7   7   \n"
          ]
        }
      ]
    },
    {
      "cell_type": "code",
      "source": [
        "for i in range(0,5):\n",
        "  for j in range (0,i):\n",
        "    print(\"i\",end=\" \")\n",
        "  print()"
      ],
      "metadata": {
        "id": "zFaqv_FBOQnR",
        "colab": {
          "base_uri": "https://localhost:8080/"
        },
        "outputId": "11e9d782-ed37-48ab-d181-b598bfd467f7"
      },
      "execution_count": null,
      "outputs": [
        {
          "output_type": "stream",
          "name": "stdout",
          "text": [
            "\n",
            "i \n",
            "i i \n",
            "i i i \n",
            "i i i i \n"
          ]
        }
      ]
    },
    {
      "cell_type": "code",
      "source": [
        "for i in range(0,5):\n",
        "  for j in range(0,i+1):\n",
        "    print(\" \"*i)\n",
        "    print(i+5-1,end=\" \")\n",
        "  print()"
      ],
      "metadata": {
        "colab": {
          "base_uri": "https://localhost:8080/"
        },
        "id": "oYtoqNDEr8z0",
        "outputId": "fd417ea1-d294-4364-dfb8-84645a9f400f"
      },
      "execution_count": null,
      "outputs": [
        {
          "output_type": "stream",
          "name": "stdout",
          "text": [
            "\n",
            "4 \n",
            " \n",
            "5  \n",
            "5 \n",
            "  \n",
            "6   \n",
            "6   \n",
            "6 \n",
            "   \n",
            "7    \n",
            "7    \n",
            "7    \n",
            "7 \n",
            "    \n",
            "8     \n",
            "8     \n",
            "8     \n",
            "8     \n",
            "8 \n"
          ]
        }
      ]
    },
    {
      "cell_type": "code",
      "source": [
        "for i in range(5,0,-1):\n",
        "  for j in range(0,i):\n",
        "    print(i,end=\" \")\n",
        "  print()\n"
      ],
      "metadata": {
        "colab": {
          "base_uri": "https://localhost:8080/"
        },
        "id": "MuTw7NNKuq5h",
        "outputId": "a6356b4e-e034-46eb-8565-309bd5aaf94a"
      },
      "execution_count": null,
      "outputs": [
        {
          "output_type": "stream",
          "name": "stdout",
          "text": [
            "5 5 5 5 5 \n",
            "4 4 4 4 \n",
            "3 3 3 \n",
            "2 2 \n",
            "1 \n"
          ]
        }
      ]
    },
    {
      "cell_type": "code",
      "source": [
        "for i in range(5,0,-1):\n",
        "  for j in range(0,i):\n",
        "    print(\" \",end=\" \")\n",
        "    print(2*i-1,end=\" \")\n",
        "  print()  "
      ],
      "metadata": {
        "colab": {
          "base_uri": "https://localhost:8080/"
        },
        "id": "B6StwH1pxvoS",
        "outputId": "1d07a80d-0688-40e3-8c53-ee0c274d5a49"
      },
      "execution_count": null,
      "outputs": [
        {
          "output_type": "stream",
          "name": "stdout",
          "text": [
            "  9   9   9   9   9 \n",
            "  7   7   7   7 \n",
            "  5   5   5 \n",
            "  3   3 \n",
            "  1 \n"
          ]
        }
      ]
    },
    {
      "cell_type": "code",
      "source": [
        "for i in range(5,0,-1):\n",
        "  for j in range(0,i):\n",
        "    print(\" \"*i,end=\" \")\n",
        "  for j in range(0,i):\n",
        "    print(\"*\"*(2*i-1))\n",
        "print()  "
      ],
      "metadata": {
        "colab": {
          "base_uri": "https://localhost:8080/"
        },
        "id": "Rz2NeRmIysG4",
        "outputId": "d785e2b8-de30-4488-9f22-39511f8df7d6"
      },
      "execution_count": null,
      "outputs": [
        {
          "output_type": "stream",
          "name": "stdout",
          "text": [
            "                              *********\n",
            "*********\n",
            "*********\n",
            "*********\n",
            "*********\n",
            "                    *******\n",
            "*******\n",
            "*******\n",
            "*******\n",
            "            *****\n",
            "*****\n",
            "*****\n",
            "      ***\n",
            "***\n",
            "  *\n",
            "\n"
          ]
        }
      ]
    },
    {
      "cell_type": "code",
      "source": [
        ""
      ],
      "metadata": {
        "id": "yXX9Ra873qBD"
      },
      "execution_count": null,
      "outputs": []
    }
  ]
}