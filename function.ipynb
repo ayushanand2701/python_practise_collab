{
  "nbformat": 4,
  "nbformat_minor": 0,
  "metadata": {
    "colab": {
      "name": "function.ipynb",
      "provenance": [],
      "collapsed_sections": []
    },
    "kernelspec": {
      "name": "python3",
      "display_name": "Python 3"
    },
    "language_info": {
      "name": "python"
    }
  },
  "cells": [
    {
      "cell_type": "code",
      "source": [
        "#function"
      ],
      "metadata": {
        "id": "bqnbD-aCIAKX"
      },
      "execution_count": null,
      "outputs": []
    },
    {
      "cell_type": "code",
      "source": [
        "def test():\n",
        "  print(\"My first fun\")"
      ],
      "metadata": {
        "id": "yweD06tBb4C9"
      },
      "execution_count": null,
      "outputs": []
    },
    {
      "cell_type": "code",
      "source": [
        "test()+\"sudh\"                                        #nontype+string not possible"
      ],
      "metadata": {
        "colab": {
          "base_uri": "https://localhost:8080/",
          "height": 183
        },
        "id": "9pfH8ywTb-jX",
        "outputId": "aaa460e6-4603-44b2-afe7-3fde43c05ed3"
      },
      "execution_count": null,
      "outputs": [
        {
          "output_type": "stream",
          "name": "stdout",
          "text": [
            "My first fun\n"
          ]
        },
        {
          "output_type": "error",
          "ename": "TypeError",
          "evalue": "ignored",
          "traceback": [
            "\u001b[0;31m---------------------------------------------------------------------------\u001b[0m",
            "\u001b[0;31mTypeError\u001b[0m                                 Traceback (most recent call last)",
            "\u001b[0;32m<ipython-input-4-dfb1abc78916>\u001b[0m in \u001b[0;36m<module>\u001b[0;34m()\u001b[0m\n\u001b[0;32m----> 1\u001b[0;31m \u001b[0mtest\u001b[0m\u001b[0;34m(\u001b[0m\u001b[0;34m)\u001b[0m\u001b[0;34m+\u001b[0m\u001b[0;34m\"sudh\"\u001b[0m\u001b[0;34m\u001b[0m\u001b[0;34m\u001b[0m\u001b[0m\n\u001b[0m",
            "\u001b[0;31mTypeError\u001b[0m: unsupported operand type(s) for +: 'NoneType' and 'str'"
          ]
        }
      ]
    },
    {
      "cell_type": "code",
      "source": [
        "type(test())"
      ],
      "metadata": {
        "colab": {
          "base_uri": "https://localhost:8080/"
        },
        "id": "us-tmiV-cBQf",
        "outputId": "9f145ff6-37e3-4358-a354-141e14105a03"
      },
      "execution_count": null,
      "outputs": [
        {
          "output_type": "stream",
          "name": "stdout",
          "text": [
            "My first fun\n"
          ]
        },
        {
          "output_type": "execute_result",
          "data": {
            "text/plain": [
              "NoneType"
            ]
          },
          "metadata": {},
          "execution_count": 5
        }
      ]
    },
    {
      "cell_type": "code",
      "source": [
        "#it is a nontype and we re trying to perform append operation with string then it gives error"
      ],
      "metadata": {
        "id": "O_du3uWwcK8D"
      },
      "execution_count": null,
      "outputs": []
    },
    {
      "cell_type": "code",
      "source": [
        "def test1():\n",
        "  return \"this is my first fun\""
      ],
      "metadata": {
        "id": "5AzX15oOcmBL"
      },
      "execution_count": null,
      "outputs": []
    },
    {
      "cell_type": "code",
      "source": [
        "test1()  + \" sudh\"    #this worked bcz here we are using return insted of print ,print will return in non type but return will return its actual datatype"
      ],
      "metadata": {
        "colab": {
          "base_uri": "https://localhost:8080/",
          "height": 35
        },
        "id": "xBbrNupzdgnm",
        "outputId": "0d3dc68f-3f1b-4176-d2b6-bc7942285aff"
      },
      "execution_count": null,
      "outputs": [
        {
          "output_type": "execute_result",
          "data": {
            "text/plain": [
              "'this is my first fun sudh'"
            ],
            "application/vnd.google.colaboratory.intrinsic+json": {
              "type": "string"
            }
          },
          "metadata": {},
          "execution_count": 11
        }
      ]
    },
    {
      "cell_type": "code",
      "source": [
        "def test2():     #this error occurs due to not given body of function"
      ],
      "metadata": {
        "colab": {
          "base_uri": "https://localhost:8080/",
          "height": 131
        },
        "id": "fHcC7bledj-U",
        "outputId": "e7e77a64-10f8-4562-ebf7-99969c85a294"
      },
      "execution_count": null,
      "outputs": [
        {
          "output_type": "error",
          "ename": "SyntaxError",
          "evalue": "ignored",
          "traceback": [
            "\u001b[0;36m  File \u001b[0;32m\"<ipython-input-13-e643e6b79d1b>\"\u001b[0;36m, line \u001b[0;32m1\u001b[0m\n\u001b[0;31m    def test2():     #this error occurs due to not given body of function\u001b[0m\n\u001b[0m                                                                         ^\u001b[0m\n\u001b[0;31mSyntaxError\u001b[0m\u001b[0;31m:\u001b[0m unexpected EOF while parsing\n"
          ]
        }
      ]
    },
    {
      "cell_type": "code",
      "source": [
        "def test2():\n",
        "  pass"
      ],
      "metadata": {
        "id": "8ijTI3xgefua"
      },
      "execution_count": null,
      "outputs": []
    },
    {
      "cell_type": "code",
      "source": [
        "def test3():\n",
        "  return 1,2,3,4,[1,2,3,5]"
      ],
      "metadata": {
        "id": "SJzkXvZwezpV"
      },
      "execution_count": null,
      "outputs": []
    },
    {
      "cell_type": "code",
      "source": [
        "test3()"
      ],
      "metadata": {
        "colab": {
          "base_uri": "https://localhost:8080/"
        },
        "id": "EALDg9bP33S-",
        "outputId": "f7125506-b4f8-4553-b8bb-45ee441d9e12"
      },
      "execution_count": null,
      "outputs": [
        {
          "output_type": "execute_result",
          "data": {
            "text/plain": [
              "(1, 2, 3, 4, [1, 2, 3, 5])"
            ]
          },
          "metadata": {},
          "execution_count": 9
        }
      ]
    },
    {
      "cell_type": "code",
      "source": [
        "a=10\n",
        "b=20\n",
        "c=30"
      ],
      "metadata": {
        "id": "vvjy11NH3_s4"
      },
      "execution_count": null,
      "outputs": []
    },
    {
      "cell_type": "code",
      "source": [
        "a,b,c=10,20,30"
      ],
      "metadata": {
        "id": "0uZS9uh-5gMD"
      },
      "execution_count": null,
      "outputs": []
    },
    {
      "cell_type": "code",
      "source": [
        "a,b,c,d=test3()"
      ],
      "metadata": {
        "colab": {
          "base_uri": "https://localhost:8080/",
          "height": 166
        },
        "id": "MCAACyCf5nR4",
        "outputId": "85fe9aa0-a1df-475f-a5d0-869c3e9568f1"
      },
      "execution_count": null,
      "outputs": [
        {
          "output_type": "error",
          "ename": "ValueError",
          "evalue": "ignored",
          "traceback": [
            "\u001b[0;31m---------------------------------------------------------------------------\u001b[0m",
            "\u001b[0;31mValueError\u001b[0m                                Traceback (most recent call last)",
            "\u001b[0;32m<ipython-input-14-fab8d9b8a879>\u001b[0m in \u001b[0;36m<module>\u001b[0;34m()\u001b[0m\n\u001b[0;32m----> 1\u001b[0;31m \u001b[0ma\u001b[0m\u001b[0;34m,\u001b[0m\u001b[0mb\u001b[0m\u001b[0;34m,\u001b[0m\u001b[0mc\u001b[0m\u001b[0;34m,\u001b[0m\u001b[0md\u001b[0m\u001b[0;34m=\u001b[0m\u001b[0mtest3\u001b[0m\u001b[0;34m(\u001b[0m\u001b[0;34m)\u001b[0m\u001b[0;34m\u001b[0m\u001b[0;34m\u001b[0m\u001b[0m\n\u001b[0m",
            "\u001b[0;31mValueError\u001b[0m: too many values to unpack (expected 4)"
          ]
        }
      ]
    },
    {
      "cell_type": "code",
      "source": [
        ""
      ],
      "metadata": {
        "id": "UuTjyNbp5u5n"
      },
      "execution_count": null,
      "outputs": []
    },
    {
      "cell_type": "code",
      "source": [
        "def test4():\n",
        "  a=4*5\n",
        "  b=5*6\n",
        "  return a,b"
      ],
      "metadata": {
        "id": "che_HUNi55cX"
      },
      "execution_count": null,
      "outputs": []
    },
    {
      "cell_type": "code",
      "source": [
        "g=test4()"
      ],
      "metadata": {
        "id": "iF0NWmUG6ETB"
      },
      "execution_count": null,
      "outputs": []
    },
    {
      "cell_type": "code",
      "source": [
        "g"
      ],
      "metadata": {
        "colab": {
          "base_uri": "https://localhost:8080/"
        },
        "id": "SMr6sQrs6KxO",
        "outputId": "b1caeff6-2418-4325-874e-acc19d3a32ed"
      },
      "execution_count": null,
      "outputs": [
        {
          "output_type": "execute_result",
          "data": {
            "text/plain": [
              "(20, 30)"
            ]
          },
          "metadata": {},
          "execution_count": 17
        }
      ]
    },
    {
      "cell_type": "code",
      "source": [
        "j,k=test4()"
      ],
      "metadata": {
        "id": "K5_n-kwB6L62"
      },
      "execution_count": null,
      "outputs": []
    },
    {
      "cell_type": "code",
      "source": [
        "j"
      ],
      "metadata": {
        "colab": {
          "base_uri": "https://localhost:8080/"
        },
        "id": "OBBSkrwL6VjP",
        "outputId": "658346a6-1ad7-47b1-d985-71fc43bf2dfc"
      },
      "execution_count": null,
      "outputs": [
        {
          "output_type": "execute_result",
          "data": {
            "text/plain": [
              "20"
            ]
          },
          "metadata": {},
          "execution_count": 19
        }
      ]
    },
    {
      "cell_type": "code",
      "source": [
        "k"
      ],
      "metadata": {
        "colab": {
          "base_uri": "https://localhost:8080/"
        },
        "id": "ANlpxzuJ6Wgh",
        "outputId": "9307ee62-4a69-4339-b083-298e567dc146"
      },
      "execution_count": null,
      "outputs": [
        {
          "output_type": "execute_result",
          "data": {
            "text/plain": [
              "30"
            ]
          },
          "metadata": {},
          "execution_count": 20
        }
      ]
    },
    {
      "cell_type": "code",
      "source": [
        "_,m=test4()"
      ],
      "metadata": {
        "id": "5m2taZL16XgR"
      },
      "execution_count": null,
      "outputs": []
    },
    {
      "cell_type": "code",
      "source": [
        "m"
      ],
      "metadata": {
        "colab": {
          "base_uri": "https://localhost:8080/"
        },
        "id": "MQlJxhpL6pU6",
        "outputId": "f91c56e6-fdbf-48b5-e717-1cd949fabb62"
      },
      "execution_count": null,
      "outputs": [
        {
          "output_type": "execute_result",
          "data": {
            "text/plain": [
              "30"
            ]
          },
          "metadata": {},
          "execution_count": 22
        }
      ]
    },
    {
      "cell_type": "code",
      "source": [
        "_   #it is called as placeholder"
      ],
      "metadata": {
        "colab": {
          "base_uri": "https://localhost:8080/"
        },
        "id": "k039YOTb6p-f",
        "outputId": "c4c7cad6-6ef5-4101-9adc-acbf8421e34e"
      },
      "execution_count": null,
      "outputs": [
        {
          "output_type": "execute_result",
          "data": {
            "text/plain": [
              "30"
            ]
          },
          "metadata": {},
          "execution_count": 23
        }
      ]
    },
    {
      "cell_type": "code",
      "source": [
        "def test5():\n",
        "  a=1\n",
        "  b=10\n",
        "  while a<b:\n",
        "    print(a)\n",
        "    a=a+2\n",
        "  else:\n",
        "    print(\"this block\")\n"
      ],
      "metadata": {
        "id": "IY6GXSGC6sEL"
      },
      "execution_count": null,
      "outputs": []
    },
    {
      "cell_type": "code",
      "source": [
        "test5()"
      ],
      "metadata": {
        "colab": {
          "base_uri": "https://localhost:8080/"
        },
        "id": "hj0_9eYb8p3o",
        "outputId": "d9ea23b9-6a26-4177-cebc-f956db3bc26d"
      },
      "execution_count": null,
      "outputs": [
        {
          "output_type": "stream",
          "name": "stdout",
          "text": [
            "1\n",
            "3\n",
            "5\n",
            "7\n",
            "9\n",
            "this block\n"
          ]
        }
      ]
    },
    {
      "cell_type": "code",
      "source": [
        "def test5(a,b):        #passing value in argument nd calling the function\n",
        "  while a<b:\n",
        "    return a\n",
        "    a=a+2\n",
        "  else:\n",
        "    print(\"this block\")\n"
      ],
      "metadata": {
        "id": "ZydYNjE-83NB"
      },
      "execution_count": null,
      "outputs": []
    },
    {
      "cell_type": "code",
      "source": [
        "test5(1,10)"
      ],
      "metadata": {
        "colab": {
          "base_uri": "https://localhost:8080/"
        },
        "id": "NUMJ-Ycm9RyR",
        "outputId": "e698910b-802d-4a4f-ceb4-f64395c494d6"
      },
      "execution_count": null,
      "outputs": [
        {
          "output_type": "execute_result",
          "data": {
            "text/plain": [
              "1"
            ]
          },
          "metadata": {},
          "execution_count": 36
        }
      ]
    },
    {
      "cell_type": "code",
      "source": [
        "test5(1,20)"
      ],
      "metadata": {
        "colab": {
          "base_uri": "https://localhost:8080/"
        },
        "id": "9k0vZggK9mF1",
        "outputId": "87c0f048-4c5b-4e87-eff9-56e4818d0499"
      },
      "execution_count": null,
      "outputs": [
        {
          "output_type": "execute_result",
          "data": {
            "text/plain": [
              "1"
            ]
          },
          "metadata": {},
          "execution_count": 37
        }
      ]
    },
    {
      "cell_type": "code",
      "source": [
        "l=[4,5,6,7,[3,4,5,6],\"sudh\"]"
      ],
      "metadata": {
        "id": "bIes7I629UMG"
      },
      "execution_count": null,
      "outputs": []
    },
    {
      "cell_type": "code",
      "source": [
        "l1=[]\n",
        "for i in l :\n",
        "  if type(i)==int:\n",
        "    l1.append(i)"
      ],
      "metadata": {
        "id": "CdbKAHPR_Mbi"
      },
      "execution_count": null,
      "outputs": []
    },
    {
      "cell_type": "code",
      "source": [
        "l1"
      ],
      "metadata": {
        "colab": {
          "base_uri": "https://localhost:8080/"
        },
        "id": "y6BHdItU_bK_",
        "outputId": "4695e2d3-e04e-4113-bb30-4d494817f725"
      },
      "execution_count": null,
      "outputs": [
        {
          "output_type": "execute_result",
          "data": {
            "text/plain": [
              "[4, 5, 6, 7]"
            ]
          },
          "metadata": {},
          "execution_count": 40
        }
      ]
    },
    {
      "cell_type": "code",
      "source": [
        "def test6():\n",
        "  l1=[]\n",
        "  for i in l:\n",
        "    if type(i)==int:\n",
        "      l1.append(i)\n",
        "    return l1 "
      ],
      "metadata": {
        "id": "wHilDL4K_deV"
      },
      "execution_count": null,
      "outputs": []
    },
    {
      "cell_type": "code",
      "source": [
        "test6()"
      ],
      "metadata": {
        "colab": {
          "base_uri": "https://localhost:8080/"
        },
        "id": "UUv-1wxQANLK",
        "outputId": "8386e3d4-2cb9-4d8b-90f9-22f7d3184cb8"
      },
      "execution_count": null,
      "outputs": [
        {
          "output_type": "execute_result",
          "data": {
            "text/plain": [
              "[4]"
            ]
          },
          "metadata": {},
          "execution_count": 44
        }
      ]
    },
    {
      "cell_type": "code",
      "source": [
        "# print using while loop\n",
        "a=0\n",
        "n=10\n",
        "while(a<=n):\n",
        "  print(\"a\"*a,end=\" \")\n",
        "  print()\n",
        "  a=a+1\n",
        "\n"
      ],
      "metadata": {
        "colab": {
          "base_uri": "https://localhost:8080/"
        },
        "id": "UJc9FNO9zrJJ",
        "outputId": "ac3200b0-e3a3-405d-ceea-5913721cfc0c"
      },
      "execution_count": null,
      "outputs": [
        {
          "output_type": "stream",
          "name": "stdout",
          "text": [
            " \n",
            "a \n",
            "aa \n",
            "aaa \n",
            "aaaa \n",
            "aaaaa \n",
            "aaaaaa \n",
            "aaaaaaa \n",
            "aaaaaaaa \n",
            "aaaaaaaaa \n",
            "aaaaaaaaaa \n"
          ]
        }
      ]
    },
    {
      "cell_type": "code",
      "source": [
        "#\n",
        "A\n",
        "B H\n",
        "C I N\n",
        "D J O S \n",
        "E K P T W\n",
        "F L Q U X Z\n",
        "G M R V Y"
      ],
      "metadata": {
        "id": "OpXyCr1Nz8Mb"
      },
      "execution_count": null,
      "outputs": []
    },
    {
      "cell_type": "code",
      "source": [
        "n=5\n",
        "for i in range(n):   #01234\n",
        "  for j in range(i,-1,-1):  #0,(0,1),(0,1,2),(0,1,2,3),(0,1,2,3,4)   #it will print 1,2 1,3 2 1,4 3 2 1,5 4 3 2 1\n",
        "    print(j+1,end=\" \")\n",
        "  print()\n"
      ],
      "metadata": {
        "colab": {
          "base_uri": "https://localhost:8080/"
        },
        "id": "oYPbFKIKGP34",
        "outputId": "7d4f1899-1e1e-4391-c188-50a65629066b"
      },
      "execution_count": null,
      "outputs": [
        {
          "output_type": "stream",
          "name": "stdout",
          "text": [
            "1 \n",
            "2 1 \n",
            "3 2 1 \n",
            "4 3 2 1 \n",
            "5 4 3 2 1 \n"
          ]
        }
      ]
    },
    {
      "cell_type": "code",
      "source": [
        "n=5\n",
        "for i in range(n):                 #01234\n",
        "  for j in range(i+1):        #0,(0,1),(0,1,2),(0,1,2,3),(0,1,2,3,4)   #it will print 1,2 1,3 2 1,4 3 2 1,5 4 3 2 1\n",
        "    print(i+1,end=\" \")\n",
        "  print()\n"
      ],
      "metadata": {
        "colab": {
          "base_uri": "https://localhost:8080/"
        },
        "id": "w_mh2d1bICSW",
        "outputId": "f473426e-6fc1-4611-db84-dcb989cc0ace"
      },
      "execution_count": null,
      "outputs": [
        {
          "output_type": "stream",
          "name": "stdout",
          "text": [
            "1 \n",
            "2 2 \n",
            "3 3 3 \n",
            "4 4 4 4 \n",
            "5 5 5 5 5 \n"
          ]
        }
      ]
    },
    {
      "cell_type": "code",
      "source": [
        "n=5\n",
        "for i in range(n):   #01234\n",
        "  for j in range(i,-1,-1):  #0,(0,1),(0,1,2),(0,1,2,3),(0,1,2,3,4)   #it will print 1,2 1,3 2 1,4 3 2 1,5 4 3 2 1\n",
        "    print(j+1,end=\" \")\n",
        "  print()\n"
      ],
      "metadata": {
        "colab": {
          "base_uri": "https://localhost:8080/"
        },
        "id": "i1igTUHAGjIi",
        "outputId": "cc77ec01-6b93-49a9-c138-2892a27594df"
      },
      "execution_count": null,
      "outputs": [
        {
          "output_type": "stream",
          "name": "stdout",
          "text": [
            "1 \n",
            "2 1 \n",
            "3 2 1 \n",
            "4 3 2 1 \n",
            "5 4 3 2 1 \n"
          ]
        }
      ]
    },
    {
      "cell_type": "code",
      "source": [
        "n=5\n",
        "for i in range(n):   #01234\n",
        "  for j in range(i,-1,-1):  #0,(0,1),(0,1,2),(0,1,2,3),(0,1,2,3,4)   #it will print 1,2 1,3 2 1,4 3 2 1,5 4 3 2 1\n",
        "    print(j+1,end=\" \")\n",
        "  print()\n"
      ],
      "metadata": {
        "colab": {
          "base_uri": "https://localhost:8080/"
        },
        "id": "38rqS9WoLtpI",
        "outputId": "9dc928a8-3e80-4b4f-cb63-27826efa95bb"
      },
      "execution_count": null,
      "outputs": [
        {
          "output_type": "stream",
          "name": "stdout",
          "text": [
            "1 \n",
            "2 1 \n",
            "3 2 1 \n",
            "4 3 2 1 \n",
            "5 4 3 2 1 \n"
          ]
        }
      ]
    },
    {
      "cell_type": "code",
      "source": [
        "n=5\n",
        "for i in range(n):   #01234\n",
        "  for j in range(i+1):  #0,(0,1),(0,1,2),(0,1,2,3),(0,1,2,3,4)   #it will print 1,2 1,3 2 1,4 3 2 1,5 4 3 2 1\n",
        "    print(n-i,end=\" \")\n",
        "  print()              #here print 5-0=5,5-1=4,5-2=3,2,1 similerly\n"
      ],
      "metadata": {
        "colab": {
          "base_uri": "https://localhost:8080/"
        },
        "id": "wJGiVXmuMVZq",
        "outputId": "6e05975d-ec16-4bb9-e320-a72bcc06ef97"
      },
      "execution_count": null,
      "outputs": [
        {
          "output_type": "stream",
          "name": "stdout",
          "text": [
            "5 \n",
            "4 4 \n",
            "3 3 3 \n",
            "2 2 2 2 \n",
            "1 1 1 1 1 \n"
          ]
        }
      ]
    },
    {
      "cell_type": "code",
      "source": [
        "n=5\n",
        "for i in range(n):   #01234\n",
        "  for j in range(i+1):  #0,(0,1),(0,1,2),(0,1,2,3),(0,1,2,3,4)   #it will print 1,2 1,3 2 1,4 3 2 1,5 4 3 2 1\n",
        "    print(n-j,end=\" \")\n",
        "  print()\n"
      ],
      "metadata": {
        "colab": {
          "base_uri": "https://localhost:8080/"
        },
        "id": "btYncPANM433",
        "outputId": "3ecfb776-9490-4299-8e0b-c3f5ca34886b"
      },
      "execution_count": null,
      "outputs": [
        {
          "output_type": "stream",
          "name": "stdout",
          "text": [
            "5 \n",
            "5 4 \n",
            "5 4 3 \n",
            "5 4 3 2 \n",
            "5 4 3 2 1 \n"
          ]
        }
      ]
    },
    {
      "cell_type": "code",
      "source": [
        "n=5\n",
        "for i in range(n):   #01234\n",
        "  for j in range(i,-1,-1):  #0,(0,1),(0,1,2),(0,1,2,3),(0,1,2,3,4)   #it will print 1,2 1,3 2 1,4 3 2 1,5 4 3 2 1\n",
        "    print(n-j,end=\" \")    #prints 5,then reverse index (0,1) to (1,0) then performs task and continues like (0,1,2) and it become(2,1,0)\n",
        "  print()\n"
      ],
      "metadata": {
        "colab": {
          "base_uri": "https://localhost:8080/"
        },
        "id": "NAmTGZxlMbNW",
        "outputId": "9b167566-d948-4ac0-b4f3-da1202bce071"
      },
      "execution_count": null,
      "outputs": [
        {
          "output_type": "stream",
          "name": "stdout",
          "text": [
            "5 \n",
            "4 5 \n",
            "3 4 5 \n",
            "2 3 4 5 \n",
            "1 2 3 4 5 \n"
          ]
        }
      ]
    },
    {
      "cell_type": "code",
      "source": [
        "n=5\n",
        "for i in range(n):   #01234\n",
        "  for j in range(n-i-1):  \n",
        "    print(\" \",end=\" \")\n",
        "  for j in range(i+1):\n",
        "    print(j+1,end=\" \")\n",
        "    print()  \n",
        "\n"
      ],
      "metadata": {
        "colab": {
          "base_uri": "https://localhost:8080/"
        },
        "id": "zW3tlpU_N4OU",
        "outputId": "365fec84-0567-4e44-8289-5e4f3e3b5c0a"
      },
      "execution_count": null,
      "outputs": [
        {
          "output_type": "stream",
          "name": "stdout",
          "text": [
            "        1 \n",
            "      1 \n",
            "2 \n",
            "    1 \n",
            "2 \n",
            "3 \n",
            "  1 \n",
            "2 \n",
            "3 \n",
            "4 \n",
            "1 \n",
            "2 \n",
            "3 \n",
            "4 \n",
            "5 \n"
          ]
        }
      ]
    },
    {
      "cell_type": "code",
      "source": [
        ""
      ],
      "metadata": {
        "id": "biwuRGXhOzUa"
      },
      "execution_count": null,
      "outputs": []
    }
  ]
}