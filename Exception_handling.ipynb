{
  "cells": [
    {
      "cell_type": "code",
      "execution_count": null,
      "metadata": {
        "id": "GaRVciZ0eQ33"
      },
      "outputs": [],
      "source": [
        "#exception handling"
      ]
    },
    {
      "cell_type": "code",
      "execution_count": null,
      "metadata": {
        "id": "upkJ1UcGeQ6o"
      },
      "outputs": [],
      "source": [
        "#source code--------->>compiler------->>byte code------->>interpretor-----1.runtime,2.compile time"
      ]
    },
    {
      "cell_type": "code",
      "execution_count": null,
      "metadata": {
        "id": "GYgx1qHdeQ9T"
      },
      "outputs": [],
      "source": [
        "#only synatx error is compile time error"
      ]
    },
    {
      "cell_type": "code",
      "execution_count": null,
      "metadata": {
        "id": "AnzxDhGqeRAO"
      },
      "outputs": [],
      "source": [
        "#At the time of compilation if we get any error to solve that runtime error we need exception handling"
      ]
    },
    {
      "cell_type": "code",
      "execution_count": null,
      "metadata": {
        "id": "OYJBkEg8eRDr"
      },
      "outputs": [],
      "source": [
        "#Runtime error is a exception and to handle that we need exception handling"
      ]
    },
    {
      "cell_type": "code",
      "execution_count": null,
      "metadata": {
        "colab": {
          "base_uri": "https://localhost:8080/",
          "height": 218
        },
        "id": "prHXOwfLgiEG",
        "outputId": "c8b3f45a-f127-49ba-e0e7-07e54c168952"
      },
      "outputs": [
        {
          "ename": "TypeError",
          "evalue": "ignored",
          "output_type": "error",
          "traceback": [
            "\u001b[0;31m---------------------------------------------------------------------------\u001b[0m",
            "\u001b[0;31mTypeError\u001b[0m                                 Traceback (most recent call last)",
            "\u001b[0;32m<ipython-input-3-27d5dadb0b7a>\u001b[0m in \u001b[0;36m<module>\u001b[0;34m()\u001b[0m\n\u001b[1;32m      1\u001b[0m \u001b[0ma\u001b[0m\u001b[0;34m=\u001b[0m\u001b[0;36m10\u001b[0m\u001b[0;34m\u001b[0m\u001b[0;34m\u001b[0m\u001b[0m\n\u001b[1;32m      2\u001b[0m \u001b[0mb\u001b[0m\u001b[0;34m=\u001b[0m\u001b[0;34m\"ayush\"\u001b[0m\u001b[0;34m\u001b[0m\u001b[0;34m\u001b[0m\u001b[0m\n\u001b[0;32m----> 3\u001b[0;31m \u001b[0mc\u001b[0m\u001b[0;34m=\u001b[0m\u001b[0ma\u001b[0m\u001b[0;34m+\u001b[0m\u001b[0mb\u001b[0m\u001b[0;34m\u001b[0m\u001b[0;34m\u001b[0m\u001b[0m\n\u001b[0m\u001b[1;32m      4\u001b[0m \u001b[0mprint\u001b[0m\u001b[0;34m(\u001b[0m\u001b[0mc\u001b[0m\u001b[0;34m)\u001b[0m\u001b[0;34m\u001b[0m\u001b[0;34m\u001b[0m\u001b[0m\n",
            "\u001b[0;31mTypeError\u001b[0m: unsupported operand type(s) for +: 'int' and 'str'"
          ]
        }
      ],
      "source": [
        "a=10\n",
        "b=\"ayush\"\n",
        "c=a+b\n",
        "print(c)\n"
      ]
    },
    {
      "cell_type": "code",
      "execution_count": null,
      "metadata": {
        "id": "6dQeV4jgiN-P"
      },
      "outputs": [],
      "source": [
        "#here this error occured bcz of the fact that one is string another is int and its a runtime error and is a exception\n"
      ]
    },
    {
      "cell_type": "code",
      "execution_count": null,
      "metadata": {
        "colab": {
          "base_uri": "https://localhost:8080/",
          "height": 270
        },
        "id": "Y2JJdSLajFn6",
        "outputId": "d18b4bf9-d701-43fb-d117-52f0c60cd1c9"
      },
      "outputs": [
        {
          "name": "stdout",
          "output_type": "stream",
          "text": [
            "first no10\n",
            "Second no0\n"
          ]
        },
        {
          "ename": "ZeroDivisionError",
          "evalue": "ignored",
          "output_type": "error",
          "traceback": [
            "\u001b[0;31m---------------------------------------------------------------------------\u001b[0m",
            "\u001b[0;31mZeroDivisionError\u001b[0m                         Traceback (most recent call last)",
            "\u001b[0;32m<ipython-input-7-ca645bf9340b>\u001b[0m in \u001b[0;36m<module>\u001b[0;34m()\u001b[0m\n\u001b[1;32m      1\u001b[0m \u001b[0ma\u001b[0m\u001b[0;34m=\u001b[0m\u001b[0mint\u001b[0m\u001b[0;34m(\u001b[0m\u001b[0minput\u001b[0m\u001b[0;34m(\u001b[0m\u001b[0;34m\"first no\"\u001b[0m\u001b[0;34m)\u001b[0m\u001b[0;34m)\u001b[0m\u001b[0;34m\u001b[0m\u001b[0;34m\u001b[0m\u001b[0m\n\u001b[1;32m      2\u001b[0m \u001b[0mb\u001b[0m\u001b[0;34m=\u001b[0m\u001b[0mint\u001b[0m\u001b[0;34m(\u001b[0m\u001b[0minput\u001b[0m\u001b[0;34m(\u001b[0m\u001b[0;34m\"Second no\"\u001b[0m\u001b[0;34m)\u001b[0m\u001b[0;34m)\u001b[0m\u001b[0;34m\u001b[0m\u001b[0;34m\u001b[0m\u001b[0m\n\u001b[0;32m----> 3\u001b[0;31m \u001b[0mc\u001b[0m\u001b[0;34m=\u001b[0m\u001b[0ma\u001b[0m\u001b[0;34m/\u001b[0m\u001b[0mb\u001b[0m\u001b[0;34m\u001b[0m\u001b[0;34m\u001b[0m\u001b[0m\n\u001b[0m\u001b[1;32m      4\u001b[0m \u001b[0mprint\u001b[0m\u001b[0;34m(\u001b[0m\u001b[0mc\u001b[0m\u001b[0;34m)\u001b[0m\u001b[0;34m\u001b[0m\u001b[0;34m\u001b[0m\u001b[0m\n\u001b[1;32m      5\u001b[0m \u001b[0md\u001b[0m\u001b[0;34m=\u001b[0m\u001b[0ma\u001b[0m\u001b[0;34m*\u001b[0m\u001b[0mb\u001b[0m\u001b[0;34m\u001b[0m\u001b[0;34m\u001b[0m\u001b[0m\n",
            "\u001b[0;31mZeroDivisionError\u001b[0m: division by zero"
          ]
        }
      ],
      "source": [
        "a=int(input(\"first no\"))\n",
        "b=int(input(\"Second no\"))\n",
        "c=a/b\n",
        "print(c)\n",
        "d=a*b\n",
        "print(d)"
      ]
    },
    {
      "cell_type": "code",
      "execution_count": null,
      "metadata": {
        "id": "BZTMi8EzjU8p"
      },
      "outputs": [],
      "source": [
        "#this error is also exception"
      ]
    },
    {
      "cell_type": "code",
      "execution_count": null,
      "metadata": {
        "id": "OppeptgMlBy5"
      },
      "outputs": [],
      "source": [
        "#try,catch,else,raise, are the few keywords that is use in exception handling"
      ]
    },
    {
      "cell_type": "code",
      "execution_count": null,
      "metadata": {
        "colab": {
          "base_uri": "https://localhost:8080/"
        },
        "id": "oOvybNXxlGqT",
        "outputId": "0fbff622-f252-418e-9de5-c62c1123560e"
      },
      "outputs": [
        {
          "name": "stdout",
          "output_type": "stream",
          "text": [
            "first no10\n",
            "Second no0\n",
            "b should not be 0\n"
          ]
        }
      ],
      "source": [
        "a=int(input(\"first no\"))\n",
        "b=int(input(\"Second no\"))\n",
        "try:\n",
        "  c=a/b\n",
        "  print(c)\n",
        "except:\n",
        "  print(\"b should not be 0\")"
      ]
    },
    {
      "cell_type": "code",
      "execution_count": null,
      "metadata": {
        "colab": {
          "base_uri": "https://localhost:8080/"
        },
        "id": "oMv1TXVVl81M",
        "outputId": "2a15a61c-8f91-47f4-ab00-1da281bc7e9f"
      },
      "outputs": [
        {
          "name": "stdout",
          "output_type": "stream",
          "text": [
            "first no10\n",
            "Second no0\n",
            "b should not be 0\n"
          ]
        }
      ],
      "source": [
        "a=int(input(\"first no\"))\n",
        "b=int(input(\"Second no\"))\n",
        "try:\n",
        "  c=a/b\n",
        "  print(c)\n",
        "except ZeroDivisionError:\n",
        "  print(\"b should not be 0\")"
      ]
    },
    {
      "cell_type": "code",
      "execution_count": null,
      "metadata": {
        "id": "4TGx1GIPLyp-"
      },
      "outputs": [],
      "source": [
        "# what is the diffrence between normal except and ZeroDivisionError is that when we write a long code of multiple lines then we have\n",
        "# to perform major task in airthmetic as if zerodivisionerror is pre difined class that has checks for error for division equal to 0"
      ]
    },
    {
      "cell_type": "code",
      "execution_count": null,
      "metadata": {
        "colab": {
          "base_uri": "https://localhost:8080/"
        },
        "id": "_ZWMYZDRMxDH",
        "outputId": "e445b5d8-6e49-45c9-e3bd-ae927ad7ae46"
      },
      "outputs": [
        {
          "name": "stdout",
          "output_type": "stream",
          "text": [
            "first no10\n",
            "Second no0\n",
            "b should not be 0\n"
          ]
        }
      ],
      "source": [
        "a=int(input(\"first no\"))\n",
        "b=int(input(\"Second no\"))\n",
        "try:\n",
        "  c=a/b\n",
        "  print(c)\n",
        "except ZeroDivisionError:\n",
        "  print(\"b should not be 0\")\n",
        "except ValueError: \n",
        "  print(\"value input\")"
      ]
    },
    {
      "cell_type": "code",
      "execution_count": null,
      "metadata": {
        "colab": {
          "base_uri": "https://localhost:8080/"
        },
        "id": "AaDwKOKEVeIc",
        "outputId": "f0a7c3d8-cad9-4ed9-a7ea-79eac19476e0"
      },
      "outputs": [
        {
          "name": "stdout",
          "output_type": "stream",
          "text": [
            "first no10\n",
            "Second no0\n",
            "b should not be 0 or value input\n"
          ]
        }
      ],
      "source": [
        "a=int(input(\"first no\"))\n",
        "b=int(input(\"Second no\"))\n",
        "try:\n",
        "  c=a/b\n",
        "  print(c)\n",
        "except (ZeroDivisionError,ValueError):\n",
        "  print(\"b should not be 0 or value input\")"
      ]
    },
    {
      "cell_type": "code",
      "execution_count": null,
      "metadata": {
        "id": "ZOh_lU9KV-SD"
      },
      "outputs": [],
      "source": [
        "# Ask user to input integer only and print two their division and ask them to print only integer if he input strigs"
      ]
    },
    {
      "cell_type": "code",
      "execution_count": null,
      "metadata": {
        "colab": {
          "base_uri": "https://localhost:8080/"
        },
        "id": "F8UO1qV8aDR0",
        "outputId": "7973a136-3b49-403f-c63e-ea76bcac4890"
      },
      "outputs": [
        {
          "name": "stdout",
          "output_type": "stream",
          "text": [
            "Enter the integer10\n",
            "Enter the integer value0\n",
            "it should be integer value only\n"
          ]
        }
      ],
      "source": [
        "a=int(input(\"Enter the integer\"))\n",
        "b=int(input(\"Enter the integer value\"))\n",
        "try:\n",
        "  c=a/b\n",
        "  print(c)\n",
        "except:\n",
        "  print(\"it should be integer value only\")"
      ]
    },
    {
      "cell_type": "code",
      "execution_count": null,
      "metadata": {
        "colab": {
          "background_save": true,
          "base_uri": "https://localhost:8080/"
        },
        "id": "TK3fcy6ials2",
        "outputId": "be031078-23ba-4306-e94b-6be61c1b866d"
      },
      "outputs": [
        {
          "name": "stdout",
          "output_type": "stream",
          "text": [
            "(<class 'ZeroDivisionError'>, ZeroDivisionError('division by zero'), <traceback object at 0x7f3f03591500>)\n",
            "(<class 'KeyboardInterrupt'>, KeyboardInterrupt(), <traceback object at 0x7f3f00311f00>)\n",
            "(<class 'ZeroDivisionError'>, ZeroDivisionError('division by zero'), <traceback object at 0x7f3f055f69b0>)\n"
          ]
        }
      ],
      "source": [
        "import sys\n",
        "while True:\n",
        "  try:\n",
        "    a=int(input(\"enter first no\"))\n",
        "    b=int(input(\"enter second no\"))\n",
        "    c=a/b\n",
        "    print(c)\n",
        "    break\n",
        "  except:\n",
        "    print(sys.exc_info())  \n"
      ]
    },
    {
      "cell_type": "code",
      "execution_count": null,
      "metadata": {
        "id": "fYJ26w8ZnFj7"
      },
      "outputs": [],
      "source": [
        "# this actually is a extension file sys is a system file which tells us what functions we performed in our code this makes our work eaiser\n",
        "# as the file we have it will show us what operation we performed as if zero division ,value error etc\n"
      ]
    },
    {
      "cell_type": "code",
      "execution_count": null,
      "metadata": {
        "id": "GYdW3iMycsdj"
      },
      "outputs": [],
      "source": [
        "import sys.exc_info()\n"
      ]
    },
    {
      "cell_type": "code",
      "source": [
        "def askint():\n",
        "  while True:\n",
        "    try:\n",
        "      val=int(input(\"Enter integer    \"))\n",
        "      break\n",
        "    except:\n",
        "      print(\"looks like not entered a integer\")\n",
        "      continue\n"
      ],
      "metadata": {
        "id": "w0Paqj5pJvDF"
      },
      "execution_count": null,
      "outputs": []
    },
    {
      "cell_type": "code",
      "source": [
        "askint()"
      ],
      "metadata": {
        "colab": {
          "base_uri": "https://localhost:8080/"
        },
        "id": "nR17rCsRKKP3",
        "outputId": "f5e0a0f8-3c95-4190-e9fe-8c467fb4a122"
      },
      "execution_count": null,
      "outputs": [
        {
          "name": "stdout",
          "output_type": "stream",
          "text": [
            "Enter integerfdccfg\n",
            "looks like entered a integer\n",
            "Enter integer10\n"
          ]
        }
      ]
    },
    {
      "cell_type": "markdown",
      "source": [
        "what we are doing here is we have writtten code in try and exception and doing exception handling here and break statment stops and continue statment keeps the program in the loop"
      ],
      "metadata": {
        "id": "yeTCV5jpLND_"
      }
    },
    {
      "cell_type": "code",
      "source": [
        ""
      ],
      "metadata": {
        "id": "PY12fDiLKhE-"
      },
      "execution_count": null,
      "outputs": []
    }
  ],
  "metadata": {
    "colab": {
      "name": "Exception handling.ipynb",
      "provenance": [],
      "collapsed_sections": []
    },
    "kernelspec": {
      "display_name": "Python 3",
      "name": "python3"
    },
    "language_info": {
      "name": "python"
    }
  },
  "nbformat": 4,
  "nbformat_minor": 0
}