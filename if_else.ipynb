{
  "nbformat": 4,
  "nbformat_minor": 0,
  "metadata": {
    "colab": {
      "name": "if else.ipynb",
      "provenance": [],
      "collapsed_sections": []
    },
    "kernelspec": {
      "name": "python3",
      "display_name": "Python 3"
    },
    "language_info": {
      "name": "python"
    }
  },
  "cells": [
    {
      "cell_type": "code",
      "execution_count": null,
      "metadata": {
        "colab": {
          "base_uri": "https://localhost:8080/"
        },
        "id": "OBAvbsNu7HMR",
        "outputId": "b0cfc90f-33df-44d0-a568-16f43bf3e4fe"
      },
      "outputs": [
        {
          "output_type": "stream",
          "name": "stdout",
          "text": [
            "this is my pehla codition\n"
          ]
        }
      ],
      "source": [
        "a=10\n",
        "if a == 10:\n",
        "  print(\"this is my pehla codition\")"
      ]
    },
    {
      "cell_type": "code",
      "source": [
        "a=10\n",
        "if a > 10 :\n",
        "  pass\n",
        "\n",
        "  "
      ],
      "metadata": {
        "id": "YfmDuNGY8u5O"
      },
      "execution_count": null,
      "outputs": []
    },
    {
      "cell_type": "code",
      "source": [
        "a=10\n",
        "a<8\n",
        "print(\"not a true comdition\")"
      ],
      "metadata": {
        "colab": {
          "base_uri": "https://localhost:8080/"
        },
        "id": "Tbs55vTq9OHj",
        "outputId": "3bafdea9-e2d1-49b2-9f02-fc2d3a8abd89"
      },
      "execution_count": null,
      "outputs": [
        {
          "output_type": "stream",
          "name": "stdout",
          "text": [
            "not a true comdition\n"
          ]
        }
      ]
    },
    {
      "cell_type": "code",
      "source": [
        "a=10\n",
        "if a != 10 :\n",
        "  print(\"not matching the condition\")\n",
        "else:\n",
        "   print(\"this is else statment\") "
      ],
      "metadata": {
        "colab": {
          "base_uri": "https://localhost:8080/"
        },
        "id": "xyJ6OO3T9YOf",
        "outputId": "9d413642-4e23-480a-d81f-82118bcfd251"
      },
      "execution_count": null,
      "outputs": [
        {
          "output_type": "stream",
          "name": "stdout",
          "text": [
            "this is else statment\n"
          ]
        }
      ]
    },
    {
      "cell_type": "code",
      "source": [
        "a=10\n",
        "if a > 5:\n",
        "  print(\"this is greater than 5\")\n",
        "elif a<5:\n",
        "  print(\"this is lesser\") \n",
        "else:\n",
        "  print(\"not a right situation\")"
      ],
      "metadata": {
        "colab": {
          "base_uri": "https://localhost:8080/"
        },
        "id": "jhk3lWNe-I9F",
        "outputId": "d6c43893-2d37-44b0-ea6c-b3b59b9013a6"
      },
      "execution_count": null,
      "outputs": [
        {
          "output_type": "stream",
          "name": "stdout",
          "text": [
            "this is greater than 5\n"
          ]
        }
      ]
    },
    {
      "cell_type": "code",
      "source": [
        "price=450\n",
        "if price > 500 :\n",
        "  print(\"can not buy\")\n",
        "elif price<500 :\n",
        "  print(\"aaj shopping krega bhai\")\n",
        "else :\n",
        "  print(\"mood kharab cancel\")"
      ],
      "metadata": {
        "colab": {
          "base_uri": "https://localhost:8080/"
        },
        "id": "N8Aelac9_C3w",
        "outputId": "a4515f37-7e41-47d6-fa4d-0722ba4a0759"
      },
      "execution_count": null,
      "outputs": [
        {
          "output_type": "stream",
          "name": "stdout",
          "text": [
            "aaj shopping krega bhai\n"
          ]
        }
      ]
    },
    {
      "cell_type": "code",
      "source": [
        "l=[1,2,3,4,5]"
      ],
      "metadata": {
        "id": "qYKWpVl59v3j"
      },
      "execution_count": null,
      "outputs": []
    },
    {
      "cell_type": "code",
      "source": [
        "2 in l"
      ],
      "metadata": {
        "colab": {
          "base_uri": "https://localhost:8080/"
        },
        "id": "BSfdNqULKWO_",
        "outputId": "c1091117-efa6-4a01-9b40-750412ef4d75"
      },
      "execution_count": null,
      "outputs": [
        {
          "output_type": "execute_result",
          "data": {
            "text/plain": [
              "True"
            ]
          },
          "metadata": {},
          "execution_count": 18
        }
      ]
    },
    {
      "cell_type": "code",
      "source": [
        "if 2 in l:\n",
        "  print(\"try to perform task\")\n",
        "elif 3 in l:                             #if firsr condition is true it does not check any other condition\n",
        "   print(\"perform task\") \n",
        "else: \n",
        "   print(\"do not perform task\") "
      ],
      "metadata": {
        "colab": {
          "base_uri": "https://localhost:8080/"
        },
        "id": "zfkkH85QKcCx",
        "outputId": "ee86d5f0-9c86-4d43-de7e-a45d2ee06aad"
      },
      "execution_count": null,
      "outputs": [
        {
          "output_type": "stream",
          "name": "stdout",
          "text": [
            "try to perform task\n"
          ]
        }
      ]
    },
    {
      "cell_type": "code",
      "source": [
        "a=400"
      ],
      "metadata": {
        "id": "fO5AeiAHLFjz"
      },
      "execution_count": null,
      "outputs": []
    },
    {
      "cell_type": "code",
      "source": [
        ""
      ],
      "metadata": {
        "id": "-HICcn0xNKMW"
      },
      "execution_count": null,
      "outputs": []
    },
    {
      "cell_type": "code",
      "source": [
        "b=input()   # whatever input we take it will take as string used for self input\n"
      ],
      "metadata": {
        "colab": {
          "base_uri": "https://localhost:8080/"
        },
        "id": "dlqSv0iTMzia",
        "outputId": "e2d43347-3311-4021-eef5-0e9427dad631"
      },
      "execution_count": null,
      "outputs": [
        {
          "name": "stdout",
          "output_type": "stream",
          "text": [
            "abc\n"
          ]
        }
      ]
    },
    {
      "cell_type": "code",
      "source": [
        "type(b)"
      ],
      "metadata": {
        "colab": {
          "base_uri": "https://localhost:8080/"
        },
        "id": "ZFdhQc8TOZas",
        "outputId": "5c2d2ce7-c965-4984-d605-98f9e3aab3df"
      },
      "execution_count": null,
      "outputs": [
        {
          "output_type": "execute_result",
          "data": {
            "text/plain": [
              "str"
            ]
          },
          "metadata": {},
          "execution_count": 27
        }
      ]
    },
    {
      "cell_type": "code",
      "source": [
        "b=int(input())  #we re typecasting it into int and it should be numeric value"
      ],
      "metadata": {
        "colab": {
          "base_uri": "https://localhost:8080/"
        },
        "id": "VozxKUBROd5-",
        "outputId": "739dc44d-1b87-4956-856c-acaf3baa7e2a"
      },
      "execution_count": null,
      "outputs": [
        {
          "name": "stdout",
          "output_type": "stream",
          "text": [
            "123\n"
          ]
        }
      ]
    },
    {
      "cell_type": "code",
      "source": [
        "price=int(input())  #type casted to int for taking numeric input\n",
        "if price < 500 :\n",
        "  print(\"i can buy a jacket\")\n",
        "elif price >500 :\n",
        "  print(\"price is out of budget\")\n",
        "else:\n",
        "  print(\"bs ab natak band kr\")"
      ],
      "metadata": {
        "colab": {
          "base_uri": "https://localhost:8080/"
        },
        "id": "2iCi33YzPoP9",
        "outputId": "9a3cc652-014e-4dda-f179-920be0889356"
      },
      "execution_count": null,
      "outputs": [
        {
          "output_type": "stream",
          "name": "stdout",
          "text": [
            "609\n",
            "price is out of budget\n"
          ]
        }
      ]
    },
    {
      "cell_type": "code",
      "source": [
        "val=float(input(\"enter a floting no\"))"
      ],
      "metadata": {
        "colab": {
          "base_uri": "https://localhost:8080/"
        },
        "id": "yliDIfEuRoyQ",
        "outputId": "c1a52dde-15fa-4ca5-acc7-1788452f3203"
      },
      "execution_count": null,
      "outputs": [
        {
          "name": "stdout",
          "output_type": "stream",
          "text": [
            "enter a floting no12.55\n"
          ]
        }
      ]
    },
    {
      "cell_type": "code",
      "source": [
        "if val > 0.5 :\n",
        "  print(\"entered value is greater\")\n",
        "else:\n",
        "  print(\"enterd value 0.0 to pkka ni hai\")"
      ],
      "metadata": {
        "colab": {
          "base_uri": "https://localhost:8080/"
        },
        "id": "Gg6LPx5kR1PU",
        "outputId": "94a2d96e-f467-46d4-a170-d15b744fcb06"
      },
      "execution_count": null,
      "outputs": [
        {
          "output_type": "stream",
          "name": "stdout",
          "text": [
            "entered value is greater\n"
          ]
        }
      ]
    },
    {
      "cell_type": "code",
      "source": [
        "if val>5 :\n",
        "  if val<10:\n",
        "    print(\"value is between 5 to 10\")\n",
        "    else :   \n",
        "    print(\"value is less than 5\")\n",
        "else:\n",
        "    print(\"value is greater than 5\")\n",
        "\n",
        "\n"
      ],
      "metadata": {
        "colab": {
          "base_uri": "https://localhost:8080/",
          "height": 131
        },
        "id": "OoT_X0idSH2w",
        "outputId": "1fff62c1-d224-446a-9b03-5dda9c6c0df6"
      },
      "execution_count": null,
      "outputs": [
        {
          "output_type": "error",
          "ename": "SyntaxError",
          "evalue": "ignored",
          "traceback": [
            "\u001b[0;36m  File \u001b[0;32m\"<ipython-input-51-2bb88842f14b>\"\u001b[0;36m, line \u001b[0;32m4\u001b[0m\n\u001b[0;31m    else :\u001b[0m\n\u001b[0m       ^\u001b[0m\n\u001b[0;31mSyntaxError\u001b[0m\u001b[0;31m:\u001b[0m invalid syntax\n"
          ]
        }
      ]
    },
    {
      "cell_type": "code",
      "source": [
        "a=10                                # 0 or 0=0\n",
        "if a < 10 or a == 10 :              # 0 or 1=1\n",
        "  print(\"codition is not true\")     #1 or 1=1         #here both the condition firts is false but second onr is true so answer witll be 0 or 1=1\n",
        "                                   #1 or 0=1"
      ],
      "metadata": {
        "id": "DzREePbrTmKg",
        "colab": {
          "base_uri": "https://localhost:8080/"
        },
        "outputId": "8d5d34a5-205a-4b5c-ac34-1337e91002cb"
      },
      "execution_count": null,
      "outputs": [
        {
          "output_type": "stream",
          "name": "stdout",
          "text": [
            "codition is not true\n"
          ]
        }
      ]
    },
    {
      "cell_type": "code",
      "source": [
        "a=\"sudh\"\n",
        "if a==\"sudh\" and a==\"sudh\" :\n",
        "  print(\"print sudh\")\n"
      ],
      "metadata": {
        "colab": {
          "base_uri": "https://localhost:8080/"
        },
        "id": "hEZ-ku6fkIiK",
        "outputId": "69a4a29d-e94e-4707-d8e4-8f38ddafe61e"
      },
      "execution_count": null,
      "outputs": [
        {
          "output_type": "stream",
          "name": "stdout",
          "text": [
            "print sudh\n"
          ]
        }
      ]
    },
    {
      "cell_type": "code",
      "source": [
        ""
      ],
      "metadata": {
        "id": "hlQtYN7jkcyU"
      },
      "execution_count": null,
      "outputs": []
    },
    {
      "cell_type": "code",
      "source": [
        "a=\"sudh\"\n",
        "if a==\"sudh\" or a==\"Sudh\" :    #here sudh one side Sudh is capital letter s\n",
        "  print(\"print sudh\")\n"
      ],
      "metadata": {
        "colab": {
          "base_uri": "https://localhost:8080/"
        },
        "outputId": "6d4f7f84-c57c-4f88-91d6-5418b48877fa",
        "id": "S7fOMwJSkiHi"
      },
      "execution_count": null,
      "outputs": [
        {
          "output_type": "stream",
          "name": "stdout",
          "text": [
            "print sudh\n"
          ]
        }
      ]
    },
    {
      "cell_type": "code",
      "source": [
        "a=10\n",
        "b=11\n",
        "c=13\n",
        "d=13\n",
        "if a == 9 and b == 11 and c == 11 and c == 13 :        #here f and true and true and true becomes\n",
        "  print(\"lets do someting\")"
      ],
      "metadata": {
        "id": "3WOEBpFKksbB"
      },
      "execution_count": null,
      "outputs": []
    },
    {
      "cell_type": "code",
      "source": [
        "d={\"key1\":\"value1\",\"key2\":\"sudh\",\"key3\":\"ineuron\"}"
      ],
      "metadata": {
        "id": "NwTyOz7elPjQ"
      },
      "execution_count": null,
      "outputs": []
    },
    {
      "cell_type": "code",
      "source": [
        "if d['key1']==\"value1\"and ['key2']==\"sudh\" and d['key3']==\"ineuron\" :\n",
        "  print(\"values are true\")\n",
        "  print(d.values())\n",
        "else:\n",
        "  print(\"all values are not satisfied\")"
      ],
      "metadata": {
        "colab": {
          "base_uri": "https://localhost:8080/"
        },
        "id": "7FN1gItTmZlx",
        "outputId": "c1825596-a518-41b0-cb94-322c0affddd3"
      },
      "execution_count": null,
      "outputs": [
        {
          "output_type": "stream",
          "name": "stdout",
          "text": [
            "all values are not satisfied\n"
          ]
        }
      ]
    },
    {
      "cell_type": "code",
      "source": [
        "d['key1']"
      ],
      "metadata": {
        "colab": {
          "base_uri": "https://localhost:8080/",
          "height": 35
        },
        "id": "6ysfx6i6l5J7",
        "outputId": "f8d2c1fd-0538-4a25-f505-43c872277e61"
      },
      "execution_count": null,
      "outputs": [
        {
          "output_type": "execute_result",
          "data": {
            "text/plain": [
              "'value1'"
            ],
            "application/vnd.google.colaboratory.intrinsic+json": {
              "type": "string"
            }
          },
          "metadata": {},
          "execution_count": 11
        }
      ]
    },
    {
      "cell_type": "code",
      "source": [
        "# loopng statment"
      ],
      "metadata": {
        "id": "xHIovPo5nyvg"
      },
      "execution_count": null,
      "outputs": []
    },
    {
      "cell_type": "code",
      "source": [
        "l=[1,3,4,5,\"ayush\",3,5,7.5,8]"
      ],
      "metadata": {
        "id": "r2BLYpqHn2sH"
      },
      "execution_count": null,
      "outputs": []
    },
    {
      "cell_type": "code",
      "source": [
        "l[2:5]"
      ],
      "metadata": {
        "colab": {
          "base_uri": "https://localhost:8080/"
        },
        "id": "FHcUNb5xoO0y",
        "outputId": "dee4a413-2063-4b4e-ef25-5a4a4ec6fb4d"
      },
      "execution_count": null,
      "outputs": [
        {
          "output_type": "execute_result",
          "data": {
            "text/plain": [
              "[4, 5, 'ayush']"
            ]
          },
          "metadata": {},
          "execution_count": 46
        }
      ]
    },
    {
      "cell_type": "code",
      "source": [
        "for i in l:  # goes to list and starts extraction data one by one\n",
        "  print(i)"
      ],
      "metadata": {
        "colab": {
          "base_uri": "https://localhost:8080/"
        },
        "id": "PgUwvHtboRTs",
        "outputId": "b4554a1c-be99-476f-d6d0-1715554d654a"
      },
      "execution_count": null,
      "outputs": [
        {
          "output_type": "stream",
          "name": "stdout",
          "text": [
            "1\n",
            "3\n",
            "4\n",
            "5\n",
            "ayush\n",
            "3\n",
            "5\n",
            "7.5\n",
            "8\n"
          ]
        }
      ]
    },
    {
      "cell_type": "code",
      "source": [
        "for i in l:                          #what we are doing here is first doing type conversion in list and if we find \n",
        "  if type(i)==int:\n",
        "    print(i+1)\n",
        "  elif type(i) == str:\n",
        "    print(i+str(1))\n",
        "  elif type(i)==float:\n",
        "    print(i+float(1)) \n",
        "\n"
      ],
      "metadata": {
        "colab": {
          "base_uri": "https://localhost:8080/"
        },
        "id": "JzdyB_cXowdc",
        "outputId": "0aa05970-2d81-477d-8474-facda628d251"
      },
      "execution_count": null,
      "outputs": [
        {
          "output_type": "stream",
          "name": "stdout",
          "text": [
            "2\n",
            "4\n",
            "5\n",
            "6\n",
            "ayush1\n",
            "4\n",
            "6\n",
            "8.5\n",
            "9\n"
          ]
        }
      ]
    },
    {
      "cell_type": "code",
      "source": [
        "l=[1,2,3,4,5,6,7]\n",
        "for i in l :\n",
        "  print(l)"
      ],
      "metadata": {
        "id": "VAodxMGpxVaB",
        "colab": {
          "base_uri": "https://localhost:8080/"
        },
        "outputId": "0ce4640b-ac3c-45c5-8bd8-4d50f20e9165"
      },
      "execution_count": null,
      "outputs": [
        {
          "output_type": "stream",
          "name": "stdout",
          "text": [
            "[1, 2, 3, 4, 5, 6, 7]\n",
            "[1, 2, 3, 4, 5, 6, 7]\n",
            "[1, 2, 3, 4, 5, 6, 7]\n",
            "[1, 2, 3, 4, 5, 6, 7]\n",
            "[1, 2, 3, 4, 5, 6, 7]\n",
            "[1, 2, 3, 4, 5, 6, 7]\n",
            "[1, 2, 3, 4, 5, 6, 7]\n"
          ]
        }
      ]
    },
    {
      "cell_type": "code",
      "source": [
        "l=[]\n",
        "for i in l :\n",
        "  if type(i)==int:\n",
        "    l.append(i)\n",
        "  "
      ],
      "metadata": {
        "id": "vwAdNYrqodOC"
      },
      "execution_count": null,
      "outputs": []
    },
    {
      "cell_type": "code",
      "source": [
        "l"
      ],
      "metadata": {
        "colab": {
          "base_uri": "https://localhost:8080/"
        },
        "id": "KZjcwhlM6l0p",
        "outputId": "bd42152f-c19a-454a-ad15-56549c37266b"
      },
      "execution_count": null,
      "outputs": [
        {
          "output_type": "execute_result",
          "data": {
            "text/plain": [
              "[]"
            ]
          },
          "metadata": {},
          "execution_count": 44
        }
      ]
    },
    {
      "cell_type": "code",
      "source": [
        "l"
      ],
      "metadata": {
        "colab": {
          "base_uri": "https://localhost:8080/"
        },
        "id": "qxnUYP-l7Hdh",
        "outputId": "671c8dd6-4120-4fac-dd5a-787309a2f2ae"
      },
      "execution_count": null,
      "outputs": [
        {
          "output_type": "execute_result",
          "data": {
            "text/plain": [
              "[1, 3, 4, 5, 'ayush', 3, 5, 7.5, 8]"
            ]
          },
          "metadata": {},
          "execution_count": 53
        }
      ]
    },
    {
      "cell_type": "code",
      "source": [
        "l1=[1,2,3,4]"
      ],
      "metadata": {
        "id": "ld4Fha8k8UwS"
      },
      "execution_count": null,
      "outputs": []
    },
    {
      "cell_type": "code",
      "source": [
        "l=[1,3,4,5,\"sudh\",\"kumar\",34.45]"
      ],
      "metadata": {
        "id": "YZAF615u86oy"
      },
      "execution_count": null,
      "outputs": []
    },
    {
      "cell_type": "code",
      "source": [
        "for i in l:\n",
        "  print(i)"
      ],
      "metadata": {
        "colab": {
          "base_uri": "https://localhost:8080/"
        },
        "id": "pXcsEBX2CGMB",
        "outputId": "75f72713-1311-4032-bba9-ca8f8ebf8976"
      },
      "execution_count": null,
      "outputs": [
        {
          "output_type": "stream",
          "name": "stdout",
          "text": [
            "1\n",
            "3\n",
            "4\n",
            "5\n",
            "sudh\n",
            "kumar\n",
            "34.45\n"
          ]
        }
      ]
    },
    {
      "cell_type": "code",
      "source": [
        "for i in l:\n",
        "  pass"
      ],
      "metadata": {
        "id": "CW_dLutjCnh5"
      },
      "execution_count": null,
      "outputs": []
    },
    {
      "cell_type": "code",
      "source": [
        "s=\"sudh\"\n",
        "for i in s:\n",
        "  print(i)"
      ],
      "metadata": {
        "colab": {
          "base_uri": "https://localhost:8080/"
        },
        "id": "8Tcyv6c9CKWK",
        "outputId": "bb9844ab-9860-4149-c0a8-62811e5c8eeb"
      },
      "execution_count": null,
      "outputs": [
        {
          "output_type": "stream",
          "name": "stdout",
          "text": [
            "s\n",
            "u\n",
            "d\n",
            "h\n"
          ]
        }
      ]
    },
    {
      "cell_type": "code",
      "source": [
        "for i in l:\n",
        "  print(i)\n",
        "else:\n",
        "  print(\"it is else case\")"
      ],
      "metadata": {
        "colab": {
          "base_uri": "https://localhost:8080/"
        },
        "id": "hTTJY9uDC-Ex",
        "outputId": "2ebc5280-00ef-4d6d-dd06-99226dd2da88"
      },
      "execution_count": null,
      "outputs": [
        {
          "output_type": "stream",
          "name": "stdout",
          "text": [
            "1\n",
            "3\n",
            "4\n",
            "5\n",
            "sudh\n",
            "kumar\n",
            "34.45\n",
            "it is else case\n"
          ]
        }
      ]
    },
    {
      "cell_type": "code",
      "source": [
        "for i in l:\n",
        "  if i == 4:\n",
        "    break\n",
        "  print(i)\n",
        "else:\n",
        "  print(\"it will be else loop\")\n"
      ],
      "metadata": {
        "colab": {
          "base_uri": "https://localhost:8080/"
        },
        "id": "z8OB2cHkDal3",
        "outputId": "d965d09b-8fe8-478c-84de-827a722aa0b7"
      },
      "execution_count": null,
      "outputs": [
        {
          "output_type": "stream",
          "name": "stdout",
          "text": [
            "1\n",
            "3\n"
          ]
        }
      ]
    },
    {
      "cell_type": "code",
      "source": [
        "s=\"ayush\"\n",
        "for i in s:\n",
        "  if i=='p':\n",
        "    break\n",
        "  print(i)\n",
        "else:\n",
        " print(\"missing letter\",s)\n",
        "  \n"
      ],
      "metadata": {
        "colab": {
          "base_uri": "https://localhost:8080/"
        },
        "id": "4p1GysQgD4Cy",
        "outputId": "1282439e-1ceb-48b4-9341-8476dfc128e9"
      },
      "execution_count": null,
      "outputs": [
        {
          "output_type": "stream",
          "name": "stdout",
          "text": [
            "a\n",
            "y\n",
            "u\n",
            "s\n",
            "h\n",
            "missing letter ayush\n"
          ]
        }
      ]
    },
    {
      "cell_type": "code",
      "source": [
        "t=(4,5,6,7,\"ayush\")"
      ],
      "metadata": {
        "id": "DJhHD4PCFglw"
      },
      "execution_count": null,
      "outputs": []
    },
    {
      "cell_type": "code",
      "source": [
        "for i in t:\n",
        "  print(i)"
      ],
      "metadata": {
        "colab": {
          "base_uri": "https://localhost:8080/"
        },
        "id": "MAYiUr4oEpRN",
        "outputId": "12ea7a71-d556-4027-d527-6cde4f1e7147"
      },
      "execution_count": null,
      "outputs": [
        {
          "output_type": "stream",
          "name": "stdout",
          "text": [
            "4\n",
            "5\n",
            "6\n",
            "7\n",
            "ayush\n"
          ]
        }
      ]
    },
    {
      "cell_type": "code",
      "source": [
        "set={4,5,6,7,7,7,8,8,\"sudh\"}"
      ],
      "metadata": {
        "id": "WKJbboEDF_DG"
      },
      "execution_count": null,
      "outputs": []
    },
    {
      "cell_type": "code",
      "source": [
        "type(set)"
      ],
      "metadata": {
        "colab": {
          "base_uri": "https://localhost:8080/"
        },
        "id": "Nm6newxOGFmr",
        "outputId": "3cac5fb4-5d1a-46a9-da2a-fc787312da3b"
      },
      "execution_count": null,
      "outputs": [
        {
          "output_type": "execute_result",
          "data": {
            "text/plain": [
              "set"
            ]
          },
          "metadata": {},
          "execution_count": 97
        }
      ]
    },
    {
      "cell_type": "code",
      "source": [
        "set"
      ],
      "metadata": {
        "colab": {
          "base_uri": "https://localhost:8080/"
        },
        "id": "JLvAJBQYGHVy",
        "outputId": "260ba668-2340-4581-eb6b-1f326ce54ebc"
      },
      "execution_count": null,
      "outputs": [
        {
          "output_type": "execute_result",
          "data": {
            "text/plain": [
              "{4, 5, 6, 7, 8, 'sudh'}"
            ]
          },
          "metadata": {},
          "execution_count": 98
        }
      ]
    },
    {
      "cell_type": "code",
      "source": [
        "for i in set:\n",
        "  print(i)"
      ],
      "metadata": {
        "colab": {
          "base_uri": "https://localhost:8080/"
        },
        "id": "jDnEDSI7GJXD",
        "outputId": "afeb8aec-1424-421b-dc52-4148af4b8c39"
      },
      "execution_count": null,
      "outputs": [
        {
          "output_type": "stream",
          "name": "stdout",
          "text": [
            "sudh\n",
            "4\n",
            "5\n",
            "6\n",
            "7\n",
            "8\n"
          ]
        }
      ]
    },
    {
      "cell_type": "code",
      "source": [
        "d={\"key1\":\"ayush\",\"key2\":\"value2\"}"
      ],
      "metadata": {
        "id": "8HW8Jl6QGWgE"
      },
      "execution_count": null,
      "outputs": []
    },
    {
      "cell_type": "code",
      "source": [
        "for i in d:\n",
        "  print(i)\n",
        "  print(d[i])"
      ],
      "metadata": {
        "colab": {
          "base_uri": "https://localhost:8080/"
        },
        "id": "WShTGMunGhkc",
        "outputId": "41a02bf3-55de-4a28-cb33-8fd62565ba4a"
      },
      "execution_count": null,
      "outputs": [
        {
          "output_type": "stream",
          "name": "stdout",
          "text": [
            "key1\n",
            "ayush\n",
            "key2\n",
            "value2\n"
          ]
        }
      ]
    },
    {
      "cell_type": "code",
      "source": [
        "d['key1']"
      ],
      "metadata": {
        "colab": {
          "base_uri": "https://localhost:8080/",
          "height": 35
        },
        "id": "xZsgRILkGnKV",
        "outputId": "ce1c35e7-d01d-4dc5-eaa7-cb17dde12d8d"
      },
      "execution_count": null,
      "outputs": [
        {
          "output_type": "execute_result",
          "data": {
            "text/plain": [
              "'ayush'"
            ],
            "application/vnd.google.colaboratory.intrinsic+json": {
              "type": "string"
            }
          },
          "metadata": {},
          "execution_count": 107
        }
      ]
    },
    {
      "cell_type": "code",
      "source": [
        "#hence we can iterate through list tuple dictionary set and we did it ealier"
      ],
      "metadata": {
        "id": "dsbBEl78HDoM"
      },
      "execution_count": null,
      "outputs": []
    },
    {
      "cell_type": "code",
      "source": [
        "range(9)\n",
        "#it give a range(0 to 9) excluding 9"
      ],
      "metadata": {
        "colab": {
          "base_uri": "https://localhost:8080/"
        },
        "id": "pOtfC8pQHNSf",
        "outputId": "d97886a9-1345-49af-9b31-2d2fe66223d7"
      },
      "execution_count": null,
      "outputs": [
        {
          "output_type": "execute_result",
          "data": {
            "text/plain": [
              "range(0, 9)"
            ]
          },
          "metadata": {},
          "execution_count": 1
        }
      ]
    },
    {
      "cell_type": "code",
      "source": [
        "list(range(9))"
      ],
      "metadata": {
        "colab": {
          "base_uri": "https://localhost:8080/"
        },
        "id": "_Wevvw7EBF63",
        "outputId": "de4d13e7-30b3-4910-8993-a2668fe47f30"
      },
      "execution_count": null,
      "outputs": [
        {
          "output_type": "execute_result",
          "data": {
            "text/plain": [
              "[0, 1, 2, 3, 4, 5, 6, 7, 8]"
            ]
          },
          "metadata": {},
          "execution_count": 2
        }
      ]
    },
    {
      "cell_type": "code",
      "source": [
        "for i in range(9):\n",
        "  print(i)"
      ],
      "metadata": {
        "colab": {
          "base_uri": "https://localhost:8080/"
        },
        "id": "Dr3U8ZfmBMCj",
        "outputId": "1242b2d8-901f-42f3-d2dd-b15ce688b747"
      },
      "execution_count": null,
      "outputs": [
        {
          "output_type": "stream",
          "name": "stdout",
          "text": [
            "0\n",
            "1\n",
            "2\n",
            "3\n",
            "4\n",
            "5\n",
            "6\n",
            "7\n",
            "8\n"
          ]
        }
      ]
    },
    {
      "cell_type": "code",
      "source": [
        "list(range(0,9))"
      ],
      "metadata": {
        "colab": {
          "base_uri": "https://localhost:8080/"
        },
        "id": "7qwh2l7mA_3i",
        "outputId": "97e4f70e-fe60-4b4b-c3fa-ce302667013c"
      },
      "execution_count": null,
      "outputs": [
        {
          "output_type": "execute_result",
          "data": {
            "text/plain": [
              "[0, 1, 2, 3, 4, 5, 6, 7, 8]"
            ]
          },
          "metadata": {},
          "execution_count": 4
        }
      ]
    },
    {
      "cell_type": "code",
      "source": [
        "list(range(0,9,2))   #here we have given jump value of 2"
      ],
      "metadata": {
        "colab": {
          "base_uri": "https://localhost:8080/"
        },
        "id": "gFCHIiKlBdZM",
        "outputId": "e6f6f461-19bd-4dcd-fd05-5a9aed851ce3"
      },
      "execution_count": null,
      "outputs": [
        {
          "output_type": "execute_result",
          "data": {
            "text/plain": [
              "[0, 2, 4, 6, 8]"
            ]
          },
          "metadata": {},
          "execution_count": 6
        }
      ]
    },
    {
      "cell_type": "code",
      "source": [
        "list(range(0,9,-1))"
      ],
      "metadata": {
        "colab": {
          "base_uri": "https://localhost:8080/"
        },
        "id": "EMxaRp1zBnqV",
        "outputId": "caa67407-ee4b-48c3-b9b0-2d47eb3d72e5"
      },
      "execution_count": null,
      "outputs": [
        {
          "output_type": "execute_result",
          "data": {
            "text/plain": [
              "[]"
            ]
          },
          "metadata": {},
          "execution_count": 7
        }
      ]
    },
    {
      "cell_type": "code",
      "source": [
        "list(range(9,0,-1))"
      ],
      "metadata": {
        "colab": {
          "base_uri": "https://localhost:8080/"
        },
        "id": "ckztccV4Brwm",
        "outputId": "6176ceb4-7312-4b91-b7ab-808e544546a4"
      },
      "execution_count": null,
      "outputs": [
        {
          "output_type": "execute_result",
          "data": {
            "text/plain": [
              "[9, 8, 7, 6, 5, 4, 3, 2, 1]"
            ]
          },
          "metadata": {},
          "execution_count": 8
        }
      ]
    },
    {
      "cell_type": "code",
      "source": [
        "n=4\n",
        "for i in range(4):   #this produce 0,1,2,3\n",
        "  for j in range(0 ,i+1):    #this range will keeo updated till 4\n",
        "    print(\"sudh\",end = \" \")    #print sudh\n",
        "  print('\\n')              # breaks line"
      ],
      "metadata": {
        "colab": {
          "base_uri": "https://localhost:8080/"
        },
        "id": "a8WahVCyBzfe",
        "outputId": "3f44c582-aa04-48b4-fcbb-78d61e152527"
      },
      "execution_count": null,
      "outputs": [
        {
          "output_type": "stream",
          "name": "stdout",
          "text": [
            "sudh \n",
            "\n",
            "sudh sudh \n",
            "\n",
            "sudh sudh sudh \n",
            "\n",
            "sudh sudh sudh sudh \n",
            "\n"
          ]
        }
      ]
    },
    {
      "cell_type": "code",
      "source": [
        "n=3\n",
        "for i in range(n):\n",
        "  for j in range(i,n-1):\n",
        "    print(\"\"*len(\"ayush\"),end=\" \")\n",
        "  for j in range(i+1):\n",
        "    print(\"ayush\",end=\" \")\n",
        "  for j in range(i):\n",
        "    print(\"ayush\",end=\" \")\n",
        "    print()  \n"
      ],
      "metadata": {
        "colab": {
          "base_uri": "https://localhost:8080/"
        },
        "id": "oohxXmCFEcUC",
        "outputId": "bf747ca6-71c5-4b09-b0ef-197470d3accf"
      },
      "execution_count": null,
      "outputs": [
        {
          "output_type": "stream",
          "name": "stdout",
          "text": [
            "  ayush  ayush ayush ayush \n",
            "ayush ayush ayush ayush \n",
            "ayush \n"
          ]
        }
      ]
    },
    {
      "cell_type": "code",
      "source": [
        "n=4\n",
        "for i in range(0, n):\n",
        "  for j in range(0, i+1):\n",
        "    print(\"ayush \",end=\"\")\n",
        "  print(\"\\r\")  \n",
        "\n",
        "     \n",
        "        \n",
        " \n",
        "        "
      ],
      "metadata": {
        "colab": {
          "base_uri": "https://localhost:8080/"
        },
        "id": "TqnuGIRtFbPE",
        "outputId": "3b4ddc3c-4a55-4e9d-8074-04878488c733"
      },
      "execution_count": null,
      "outputs": [
        {
          "output_type": "stream",
          "name": "stdout",
          "text": [
            "ayush \r\n",
            "ayush ayush \r\n",
            "ayush ayush ayush \r\n",
            "ayush ayush ayush ayush \r\n"
          ]
        }
      ]
    },
    {
      "cell_type": "code",
      "source": [
        "rows = int(input(\"Enter number of rows: \"))\n",
        "\n",
        "for i in range(rows):\n",
        "    for j in range(i+1):\n",
        "        print(\"* \", end=\"\")\n",
        "    print(\"\\n\")"
      ],
      "metadata": {
        "colab": {
          "base_uri": "https://localhost:8080/"
        },
        "id": "Yoq1y8LQen5D",
        "outputId": "a77e68d8-626b-42fb-f444-20152eada9dd"
      },
      "execution_count": null,
      "outputs": [
        {
          "output_type": "stream",
          "name": "stdout",
          "text": [
            "Enter number of rows: 5\n",
            "* \n",
            "\n",
            "* * \n",
            "\n",
            "* * * \n",
            "\n",
            "* * * * \n",
            "\n",
            "* * * * * \n",
            "\n"
          ]
        }
      ]
    },
    {
      "cell_type": "code",
      "source": [
        "n=3\n",
        "for i in range(n):\n",
        "  for j in range(i,n-1):  #this goes 1 to 2 ie 2 space in first line\n",
        "    print(\"\",end=' ')\n",
        "  for j in range(i+1):    #this range is from 1st line to print sudh one time\n",
        "    print(\"sudh\",end=' ')\n",
        "  print()  "
      ],
      "metadata": {
        "colab": {
          "base_uri": "https://localhost:8080/"
        },
        "id": "0y-dTd-UxNeC",
        "outputId": "88654475-8a52-4715-e04d-2843540283b9"
      },
      "execution_count": null,
      "outputs": [
        {
          "output_type": "stream",
          "name": "stdout",
          "text": [
            "  sudh \n",
            " sudh sudh \n",
            "sudh sudh sudh \n"
          ]
        }
      ]
    },
    {
      "cell_type": "code",
      "source": [
        "n=3\n",
        "for i in range(n):\n",
        "  for j in range((n-1),i):\n",
        "    print(\"\",end=' ')\n",
        "  for j in range(i-1):\n",
        "    print(\"sudh\",end=' ')\n",
        "  print()  "
      ],
      "metadata": {
        "colab": {
          "base_uri": "https://localhost:8080/"
        },
        "id": "RE8YETkEySQX",
        "outputId": "fe272011-7702-4790-8c13-10d8eb9cb789"
      },
      "execution_count": null,
      "outputs": [
        {
          "output_type": "stream",
          "name": "stdout",
          "text": [
            "\n",
            "\n",
            "sudh \n"
          ]
        }
      ]
    },
    {
      "cell_type": "code",
      "source": [
        "n=3                                        #here we decakared the no of rows till we want to print\n",
        "for i in range(n):                         # we got our range(3)i.e-0,1,2\n",
        "  for j in range(i,n-1):                   #here range is for i 0,1\n",
        "    print(\" \"*len(\"sudh\"),end=\" \")         #here it will print space *4 =4 space\n",
        "  for j in range(i+1):                     #here it is 1,\n",
        "    print(\"sudh\",end=\" \")                  # print sudh for 0+1=1 time and end eith space\n",
        "  for j in range(i):                       # value of range i again in 1th row print again sudh\n",
        "    print(\"sudh\",end=\" \")\n",
        "  print()                                   # next line in the loop"
      ],
      "metadata": {
        "id": "uXgwvMCJeb0c",
        "colab": {
          "base_uri": "https://localhost:8080/"
        },
        "outputId": "a2134347-289a-430e-e6ec-6383b5ed4bbd"
      },
      "execution_count": null,
      "outputs": [
        {
          "output_type": "stream",
          "name": "stdout",
          "text": [
            "          sudh \n",
            "     sudh sudh sudh \n",
            "sudh sudh sudh sudh sudh \n"
          ]
        }
      ]
    },
    {
      "cell_type": "code",
      "source": [
        "t=(1,2,3,4,5,5,5,6,67,8,9)  #print indices as well as element  of tuple"
      ],
      "metadata": {
        "id": "M5KFpbpCSUW4"
      },
      "execution_count": null,
      "outputs": []
    },
    {
      "cell_type": "code",
      "source": [
        "str=\"abcd\""
      ],
      "metadata": {
        "id": "-QPcQRXtV3ZI"
      },
      "execution_count": null,
      "outputs": []
    },
    {
      "cell_type": "code",
      "source": [
        "str.replace(str,\"pqrs\")"
      ],
      "metadata": {
        "colab": {
          "base_uri": "https://localhost:8080/",
          "height": 35
        },
        "id": "MyzfCU04Vz7k",
        "outputId": "324de32b-57a2-4c14-88c1-6fcb172d35c0"
      },
      "execution_count": null,
      "outputs": [
        {
          "output_type": "execute_result",
          "data": {
            "text/plain": [
              "'pqrs'"
            ],
            "application/vnd.google.colaboratory.intrinsic+json": {
              "type": "string"
            }
          },
          "metadata": {},
          "execution_count": 39
        }
      ]
    },
    {
      "cell_type": "code",
      "source": [
        "str"
      ],
      "metadata": {
        "colab": {
          "base_uri": "https://localhost:8080/",
          "height": 35
        },
        "id": "b1d7I8QaiGbr",
        "outputId": "76e3ff39-1c5c-4126-cc36-50de4d905e26"
      },
      "execution_count": null,
      "outputs": [
        {
          "output_type": "execute_result",
          "data": {
            "text/plain": [
              "'abcd'"
            ],
            "application/vnd.google.colaboratory.intrinsic+json": {
              "type": "string"
            }
          },
          "metadata": {},
          "execution_count": 40
        }
      ]
    },
    {
      "cell_type": "code",
      "source": [
        "str"
      ],
      "metadata": {
        "colab": {
          "base_uri": "https://localhost:8080/",
          "height": 35
        },
        "id": "u4vW8jWAijmN",
        "outputId": "ae46da1c-6d1b-448b-9c35-db4c9efda2fe"
      },
      "execution_count": null,
      "outputs": [
        {
          "output_type": "execute_result",
          "data": {
            "text/plain": [
              "'abcd pqrs'"
            ],
            "application/vnd.google.colaboratory.intrinsic+json": {
              "type": "string"
            }
          },
          "metadata": {},
          "execution_count": 35
        }
      ]
    },
    {
      "cell_type": "code",
      "source": [
        "a=\"ayush anand\""
      ],
      "metadata": {
        "id": "hFANApiKmJ6p"
      },
      "execution_count": null,
      "outputs": []
    },
    {
      "cell_type": "code",
      "source": [
        "a.center(20,\"@\")"
      ],
      "metadata": {
        "colab": {
          "base_uri": "https://localhost:8080/",
          "height": 35
        },
        "id": "s6Hq338EmSW6",
        "outputId": "533f9b87-f353-4ffb-d1b8-41130c96bc2e"
      },
      "execution_count": null,
      "outputs": [
        {
          "output_type": "execute_result",
          "data": {
            "text/plain": [
              "'@@@@ayush anand@@@@@'"
            ],
            "application/vnd.google.colaboratory.intrinsic+json": {
              "type": "string"
            }
          },
          "metadata": {},
          "execution_count": 45
        }
      ]
    },
    {
      "cell_type": "code",
      "source": [
        "t=(1,2,3,4,5,6,7,8,9)"
      ],
      "metadata": {
        "id": "-TM1umf_mUL-"
      },
      "execution_count": null,
      "outputs": []
    },
    {
      "cell_type": "code",
      "source": [
        "len(t)"
      ],
      "metadata": {
        "colab": {
          "base_uri": "https://localhost:8080/"
        },
        "id": "tB6BFiVP7JLD",
        "outputId": "c65b6461-0f50-40ca-984a-56d34f03bfa1"
      },
      "execution_count": null,
      "outputs": [
        {
          "output_type": "execute_result",
          "data": {
            "text/plain": [
              "9"
            ]
          },
          "metadata": {},
          "execution_count": 49
        }
      ]
    },
    {
      "cell_type": "code",
      "source": [
        "list(range(len(t)))"
      ],
      "metadata": {
        "colab": {
          "base_uri": "https://localhost:8080/"
        },
        "id": "giGytt4h7KRN",
        "outputId": "b0e10177-f502-4c5c-8a93-141a6feb5b09"
      },
      "execution_count": null,
      "outputs": [
        {
          "output_type": "execute_result",
          "data": {
            "text/plain": [
              "[0, 1, 2, 3, 4, 5, 6, 7, 8]"
            ]
          },
          "metadata": {},
          "execution_count": 50
        }
      ]
    },
    {
      "cell_type": "code",
      "source": [
        "for i in range(len(t)):\n",
        "  print(i,t[i])   #tuple element with index"
      ],
      "metadata": {
        "colab": {
          "base_uri": "https://localhost:8080/"
        },
        "id": "0LpWdXE-7aTk",
        "outputId": "285c877f-6f97-4bb6-9538-db4143b56286"
      },
      "execution_count": null,
      "outputs": [
        {
          "output_type": "stream",
          "name": "stdout",
          "text": [
            "0 1\n",
            "1 2\n",
            "2 3\n",
            "3 4\n",
            "4 5\n",
            "5 6\n",
            "6 7\n",
            "7 8\n",
            "8 9\n"
          ]
        }
      ]
    },
    {
      "cell_type": "code",
      "source": [
        "s=\"ineuron\"\n",
        "for i in range(len(s)):\n",
        "  print(i,s[i])"
      ],
      "metadata": {
        "colab": {
          "base_uri": "https://localhost:8080/"
        },
        "id": "KPtqfdx_70PT",
        "outputId": "2aae86ce-904c-4776-eb16-a946fe47b8d5"
      },
      "execution_count": null,
      "outputs": [
        {
          "output_type": "stream",
          "name": "stdout",
          "text": [
            "0 i\n",
            "1 n\n",
            "2 e\n",
            "3 u\n",
            "4 r\n",
            "5 o\n",
            "6 n\n"
          ]
        }
      ]
    },
    {
      "cell_type": "code",
      "source": [
        "for i in range(len(s)-1,-1,-1):\n",
        "   print(i, s[i])\n",
        "   "
      ],
      "metadata": {
        "colab": {
          "base_uri": "https://localhost:8080/"
        },
        "id": "IHjk9lOM8YVB",
        "outputId": "1362b087-926f-45e8-838e-6ec2308f8b78"
      },
      "execution_count": null,
      "outputs": [
        {
          "output_type": "stream",
          "name": "stdout",
          "text": [
            "6 n\n",
            "5 o\n",
            "4 r\n",
            "3 u\n",
            "2 e\n",
            "1 n\n",
            "0 i\n"
          ]
        }
      ]
    },
    {
      "cell_type": "code",
      "source": [
        "d={\"key1\":\"value1\",\"key2\":\"value2\",\"key3\":\"value3\"}"
      ],
      "metadata": {
        "id": "PXbM5g2A97Vk"
      },
      "execution_count": null,
      "outputs": []
    },
    {
      "cell_type": "code",
      "source": [
        "for i in d.items():\n",
        "  print(i)"
      ],
      "metadata": {
        "colab": {
          "base_uri": "https://localhost:8080/"
        },
        "id": "OzIQ8tpm-4Bw",
        "outputId": "bda5167e-76bb-40d0-bb11-a42ee7dffd79"
      },
      "execution_count": null,
      "outputs": [
        {
          "output_type": "stream",
          "name": "stdout",
          "text": [
            "('key1', 'value1')\n",
            "('key2', 'value2')\n",
            "('key3', 'value3')\n"
          ]
        }
      ]
    },
    {
      "cell_type": "code",
      "source": [
        "print(type(i))"
      ],
      "metadata": {
        "colab": {
          "base_uri": "https://localhost:8080/"
        },
        "id": "LpzmaLMA_L00",
        "outputId": "2dcdb627-8c1e-498d-93f1-5be0c4c11076"
      },
      "execution_count": null,
      "outputs": [
        {
          "output_type": "stream",
          "name": "stdout",
          "text": [
            "<class 'tuple'>\n"
          ]
        }
      ]
    },
    {
      "cell_type": "code",
      "source": [
        "print(type(i[1]))"
      ],
      "metadata": {
        "colab": {
          "base_uri": "https://localhost:8080/"
        },
        "id": "305s053S_QMI",
        "outputId": "43c064d9-cc67-4a76-c2c4-4062a8619b11"
      },
      "execution_count": null,
      "outputs": [
        {
          "output_type": "stream",
          "name": "stdout",
          "text": [
            "<class 'str'>\n"
          ]
        }
      ]
    },
    {
      "cell_type": "code",
      "source": [
        "l=[\"ayush\",\"kumar\",3456,\"abcd\",45.95]"
      ],
      "metadata": {
        "id": "qz4ZdlCy_UcK"
      },
      "execution_count": null,
      "outputs": []
    },
    {
      "cell_type": "code",
      "source": [
        "l1=[]\n",
        "for i in l:\n",
        "  if type(i)==int:\n",
        "    l1.append(i)\n"
      ],
      "metadata": {
        "id": "9ZIu3hlE_oJb"
      },
      "execution_count": null,
      "outputs": []
    },
    {
      "cell_type": "code",
      "source": [
        "l1\n"
      ],
      "metadata": {
        "colab": {
          "base_uri": "https://localhost:8080/"
        },
        "id": "YRj9rqkB_r0d",
        "outputId": "97f2f99d-2b53-4824-852e-eb77246e05b0"
      },
      "execution_count": null,
      "outputs": [
        {
          "output_type": "execute_result",
          "data": {
            "text/plain": [
              "[3456]"
            ]
          },
          "metadata": {},
          "execution_count": 99
        }
      ]
    },
    {
      "cell_type": "code",
      "source": [
        "d={1:3456,\"name\":\"sudh\",\"emailid\":\"ayushanand@zsassociate.com\"}"
      ],
      "metadata": {
        "id": "-JqbsfMkApHx"
      },
      "execution_count": null,
      "outputs": []
    },
    {
      "cell_type": "code",
      "source": [
        "#all values or pair key should be numeric one\n",
        "for i in d.items():\n",
        "  print(i,type(i),type([1]))"
      ],
      "metadata": {
        "id": "5bWoXLQuA7du",
        "colab": {
          "base_uri": "https://localhost:8080/"
        },
        "outputId": "3a35a9b4-bc13-4aa6-cdef-426221133d52"
      },
      "execution_count": null,
      "outputs": [
        {
          "output_type": "stream",
          "name": "stdout",
          "text": [
            "(1, 3456) <class 'tuple'> <class 'list'>\n",
            "('name', 'sudh') <class 'tuple'> <class 'list'>\n",
            "('emailid', 'ayushanand@zsassociate.com') <class 'tuple'> <class 'list'>\n"
          ]
        }
      ]
    },
    {
      "cell_type": "code",
      "source": [
        "l=[\"ayush\",\"kumar\",3254,\"ayushanand2702@gmail.com\",45,785]   #extract only numeric value"
      ],
      "metadata": {
        "id": "P9-_V9Kn2k_N"
      },
      "execution_count": null,
      "outputs": []
    },
    {
      "cell_type": "code",
      "source": [
        "l1=[]\n",
        "for i in l:\n",
        "  if type(i)==int:\n",
        "    l1.append(i)\n",
        "\n"
      ],
      "metadata": {
        "id": "zwXJ8KNbClLy"
      },
      "execution_count": null,
      "outputs": []
    },
    {
      "cell_type": "code",
      "source": [
        "l1"
      ],
      "metadata": {
        "colab": {
          "base_uri": "https://localhost:8080/"
        },
        "id": "I5kdckpjDe8N",
        "outputId": "b01072ba-e8f4-4fc9-bd99-cb00129b1203"
      },
      "execution_count": null,
      "outputs": [
        {
          "output_type": "execute_result",
          "data": {
            "text/plain": [
              "[3254, 45, 785]"
            ]
          },
          "metadata": {},
          "execution_count": 4
        }
      ]
    },
    {
      "cell_type": "code",
      "source": [
        "d={1:245,\"name\":\"ayush\",\"emailid\":\"ayushanand2701@gmail.com\"}"
      ],
      "metadata": {
        "id": "_rZNeXJMDgpT"
      },
      "execution_count": null,
      "outputs": []
    },
    {
      "cell_type": "code",
      "source": [
        "#value pair where key is numeric\n",
        "for i in d:\n",
        "  if type(i)==int:\n",
        "   print(i,\":\",d[i])"
      ],
      "metadata": {
        "colab": {
          "base_uri": "https://localhost:8080/"
        },
        "id": "uLTb0NWBD3_d",
        "outputId": "38212d14-e276-48d3-fea9-9631aed31adc"
      },
      "execution_count": null,
      "outputs": [
        {
          "output_type": "stream",
          "name": "stdout",
          "text": [
            "1 : 245\n"
          ]
        }
      ]
    },
    {
      "cell_type": "code",
      "source": [
        "s=\"aaabbbbcccddd\"\n",
        "a=3\n",
        "b=4\n",
        "c=3\n",
        "d=3"
      ],
      "metadata": {
        "id": "8pv4GtDuEWGo"
      },
      "execution_count": null,
      "outputs": []
    },
    {
      "cell_type": "code",
      "source": [
        "for i in s:\n",
        "  if(s==a):\n",
        "    print(count(a))"
      ],
      "metadata": {
        "id": "6uSyOlrLE-QH"
      },
      "execution_count": null,
      "outputs": []
    },
    {
      "cell_type": "code",
      "source": [
        "a"
      ],
      "metadata": {
        "colab": {
          "base_uri": "https://localhost:8080/"
        },
        "id": "8q9SqOI1Fbxe",
        "outputId": "2c2af440-e67c-4fdc-c76e-35bca627a3d0"
      },
      "execution_count": null,
      "outputs": [
        {
          "output_type": "execute_result",
          "data": {
            "text/plain": [
              "3"
            ]
          },
          "metadata": {},
          "execution_count": 25
        }
      ]
    },
    {
      "cell_type": "code",
      "source": [
        "for i in set(s):\n",
        "  print(i ,\":\",s.count[i])"
      ],
      "metadata": {
        "colab": {
          "base_uri": "https://localhost:8080/",
          "height": 183
        },
        "id": "1u3pqWQJFhov",
        "outputId": "d4f99c5f-3895-4812-e4b0-0d654ace8f6a"
      },
      "execution_count": null,
      "outputs": [
        {
          "output_type": "error",
          "ename": "TypeError",
          "evalue": "ignored",
          "traceback": [
            "\u001b[0;31m---------------------------------------------------------------------------\u001b[0m",
            "\u001b[0;31mTypeError\u001b[0m                                 Traceback (most recent call last)",
            "\u001b[0;32m<ipython-input-26-f796cd6c94ab>\u001b[0m in \u001b[0;36m<module>\u001b[0;34m()\u001b[0m\n\u001b[1;32m      1\u001b[0m \u001b[0;32mfor\u001b[0m \u001b[0mi\u001b[0m \u001b[0;32min\u001b[0m \u001b[0mset\u001b[0m\u001b[0;34m(\u001b[0m\u001b[0ms\u001b[0m\u001b[0;34m)\u001b[0m\u001b[0;34m:\u001b[0m\u001b[0;34m\u001b[0m\u001b[0;34m\u001b[0m\u001b[0m\n\u001b[0;32m----> 2\u001b[0;31m   \u001b[0mprint\u001b[0m\u001b[0;34m(\u001b[0m\u001b[0mi\u001b[0m \u001b[0;34m,\u001b[0m\u001b[0;34m\":\"\u001b[0m\u001b[0;34m,\u001b[0m\u001b[0ms\u001b[0m\u001b[0;34m.\u001b[0m\u001b[0mcount\u001b[0m\u001b[0;34m[\u001b[0m\u001b[0mi\u001b[0m\u001b[0;34m]\u001b[0m\u001b[0;34m)\u001b[0m\u001b[0;34m\u001b[0m\u001b[0;34m\u001b[0m\u001b[0m\n\u001b[0m",
            "\u001b[0;31mTypeError\u001b[0m: 'builtin_function_or_method' object is not subscriptable"
          ]
        }
      ]
    },
    {
      "cell_type": "code",
      "source": [
        "i=3456789\n",
        "for j in str(i):\n",
        "  print(j,type(int(j)))"
      ],
      "metadata": {
        "colab": {
          "base_uri": "https://localhost:8080/"
        },
        "id": "6E-t77Acdo-V",
        "outputId": "07afabbc-7eb9-4ae9-8af2-76df89eb57a7"
      },
      "execution_count": null,
      "outputs": [
        {
          "output_type": "stream",
          "name": "stdout",
          "text": [
            "3 <class 'int'>\n",
            "4 <class 'int'>\n",
            "5 <class 'int'>\n",
            "6 <class 'int'>\n",
            "7 <class 'int'>\n",
            "8 <class 'int'>\n",
            "9 <class 'int'>\n"
          ]
        }
      ]
    },
    {
      "cell_type": "code",
      "source": [
        "str(i)"
      ],
      "metadata": {
        "colab": {
          "base_uri": "https://localhost:8080/",
          "height": 35
        },
        "id": "NpGiFjgqFoS1",
        "outputId": "7a8bedc4-96ce-4498-9045-24372b0c2ddc"
      },
      "execution_count": null,
      "outputs": [
        {
          "output_type": "execute_result",
          "data": {
            "text/plain": [
              "'3456789'"
            ],
            "application/vnd.google.colaboratory.intrinsic+json": {
              "type": "string"
            }
          },
          "metadata": {},
          "execution_count": 28
        }
      ]
    },
    {
      "cell_type": "code",
      "source": [
        "t=(\"sudh\",\"kumar\",[1,2,3,4,5],(3,4,5,6),{\"key1\":\"value1\",\"key2\":\"value2\"})"
      ],
      "metadata": {
        "id": "sPgS0rOXe8zC"
      },
      "execution_count": null,
      "outputs": []
    },
    {
      "cell_type": "code",
      "source": [
        "for i in t:\n",
        "  if type(i)==tuple or type(i)==list or type(i)==dict:\n",
        "    for j in i:\n",
        "      if j==3:\n",
        "        print(j)"
      ],
      "metadata": {
        "colab": {
          "base_uri": "https://localhost:8080/"
        },
        "id": "8xLGtIs0hCnW",
        "outputId": "a5614d5e-2939-4b77-f273-7fbc7ff63404"
      },
      "execution_count": null,
      "outputs": [
        {
          "output_type": "stream",
          "name": "stdout",
          "text": [
            "3\n",
            "3\n"
          ]
        }
      ]
    },
    {
      "cell_type": "code",
      "source": [
        "d={4:4,\"key1\":\"value\",\"key2\":\"value2\"}"
      ],
      "metadata": {
        "id": "X0O1bse2hIKv"
      },
      "execution_count": null,
      "outputs": []
    },
    {
      "cell_type": "code",
      "source": [
        "for i in d.items():\n",
        "  print(i)"
      ],
      "metadata": {
        "colab": {
          "base_uri": "https://localhost:8080/"
        },
        "id": "RxYeUIUAk4VO",
        "outputId": "00b0819e-4c8a-418c-eb93-bc48fc9213ad"
      },
      "execution_count": null,
      "outputs": [
        {
          "output_type": "stream",
          "name": "stdout",
          "text": [
            "(4, 4)\n",
            "('key1', 'value')\n",
            "('key2', 'value2')\n"
          ]
        }
      ]
    },
    {
      "cell_type": "code",
      "source": [
        ""
      ],
      "metadata": {
        "id": "4L1r_P9ylHJr"
      },
      "execution_count": null,
      "outputs": []
    },
    {
      "cell_type": "code",
      "source": [
        ""
      ],
      "metadata": {
        "id": "muibAK3eldEi"
      },
      "execution_count": null,
      "outputs": []
    }
  ]
}