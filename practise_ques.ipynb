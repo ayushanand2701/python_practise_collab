{
  "nbformat": 4,
  "nbformat_minor": 0,
  "metadata": {
    "colab": {
      "name": "practise ques.ipynb",
      "provenance": [],
      "collapsed_sections": []
    },
    "kernelspec": {
      "name": "python3",
      "display_name": "Python 3"
    },
    "language_info": {
      "name": "python"
    }
  },
  "cells": [
    {
      "cell_type": "code",
      "execution_count": null,
      "metadata": {
        "id": "TsuddDJml9XI"
      },
      "outputs": [],
      "source": [
        "1. print\n",
        "ineuron\n",
        "ineuron ineuron\n",
        "ineuron ineuron ineuron"
      ]
    },
    {
      "cell_type": "code",
      "source": [
        "2.         ineuron\n",
        "     ineuron       ineuron\n",
        "ineuron    ineuron   ineuron"
      ],
      "metadata": {
        "id": "o3v5jz-vmMjR"
      },
      "execution_count": null,
      "outputs": []
    },
    {
      "cell_type": "code",
      "source": [
        "3. #l=[[1,2,3,4],(2,3,4,5),set([23,4,5,67,73,45,67,7,88],{\"k1\":\"sudh\",\"k2\":\"ineuron\",\"k3\":\"kumar\"})]\n",
        "#try to extract all the list entity\n",
        "#4 try to extract all the dictionary entity\n",
        "#try to extract all tuple entity\n",
        "#try to extract all numerical data\n",
        "#give summesion of numeric data\n",
        "#try to filter odd value of numeric data which is part of list\n",
        "#try to extract ineuron from it\n",
        "#try to find number of occurence of data\n",
        "#try to find out no of keys in data\n",
        "#try to find out alphanumeric in data\n",
        "#try to find out all string in data\n",
        "#try to find out multiplication of all individual collection inside data set\n",
        "#try to unwrap all the collection inside a dataset"
      ],
      "metadata": {
        "colab": {
          "base_uri": "https://localhost:8080/"
        },
        "id": "X8BLCo5Zma3X",
        "outputId": "d1e5a4b7-cb1f-4039-a0c4-9260d6994ae5"
      },
      "execution_count": null,
      "outputs": [
        {
          "output_type": "execute_result",
          "data": {
            "text/plain": [
              "3.0"
            ]
          },
          "metadata": {},
          "execution_count": 1
        }
      ]
    },
    {
      "cell_type": "code",
      "source": [
        "l=[[1,2,3,4],(2,3,4,5),set([23,4,5,67,73,45,67,7,88]),{'k1':\"sudh\",'k2':\"ineuron\",'k3':\"kumar\"}]"
      ],
      "metadata": {
        "id": "xe1OIzJgovXh"
      },
      "execution_count": null,
      "outputs": []
    },
    {
      "cell_type": "code",
      "source": [
        "#try to extract all the list entity\n",
        "for i in l:\n",
        "  if type(i)==list:\n",
        "    print(i)"
      ],
      "metadata": {
        "colab": {
          "base_uri": "https://localhost:8080/"
        },
        "id": "JK0I3B48owgg",
        "outputId": "b620a134-4fee-4673-c5b2-6aa525f130a0"
      },
      "execution_count": null,
      "outputs": [
        {
          "output_type": "stream",
          "name": "stdout",
          "text": [
            "[1, 2, 3, 4]\n"
          ]
        }
      ]
    },
    {
      "cell_type": "code",
      "source": [
        "#4 try to extract all the dictionary entity\n",
        "for i in l:\n",
        "  if type(i)==dict:\n",
        "    print(i)"
      ],
      "metadata": {
        "colab": {
          "base_uri": "https://localhost:8080/"
        },
        "id": "auyeCpHupfP5",
        "outputId": "e496e7a7-97b1-408e-a24e-471411e9b157"
      },
      "execution_count": null,
      "outputs": [
        {
          "output_type": "stream",
          "name": "stdout",
          "text": [
            "{'k1': 'sudh', 'k2': 'ineuron', 'k3': 'kumar'}\n"
          ]
        }
      ]
    },
    {
      "cell_type": "code",
      "source": [
        "#try to extract all tuple entity\n",
        "for i in l:\n",
        "  if type(i)==tuple:\n",
        "    print(i)"
      ],
      "metadata": {
        "colab": {
          "base_uri": "https://localhost:8080/"
        },
        "id": "4uZWUgahp0W7",
        "outputId": "939bd6f9-830c-423d-961b-305feec24327"
      },
      "execution_count": null,
      "outputs": [
        {
          "output_type": "stream",
          "name": "stdout",
          "text": [
            "(2, 3, 4, 5)\n"
          ]
        }
      ]
    },
    {
      "cell_type": "code",
      "source": [
        "for i in l:\n",
        "  if type(i)==dict:\n",
        "    print(i)\n",
        "\n"
      ],
      "metadata": {
        "colab": {
          "base_uri": "https://localhost:8080/"
        },
        "id": "YreuvpYaqLJr",
        "outputId": "0aac4a69-181d-48e4-b0d9-568e92c83698"
      },
      "execution_count": null,
      "outputs": [
        {
          "output_type": "stream",
          "name": "stdout",
          "text": [
            "{'k1': 'sudh', 'k2': 'ineuron', 'k3': 'kumar'}\n"
          ]
        }
      ]
    },
    {
      "cell_type": "code",
      "source": [
        "for i in l:\n",
        "  if type(i)==tuple or type(i)==dict or type(i)==set :\n",
        "    for j in i:\n",
        "      if l==int:\n",
        "        print(l)\n"
      ],
      "metadata": {
        "id": "oIBi8koew89v"
      },
      "execution_count": null,
      "outputs": []
    },
    {
      "cell_type": "code",
      "source": [
        "l"
      ],
      "metadata": {
        "colab": {
          "base_uri": "https://localhost:8080/"
        },
        "id": "-CDD1TY2yIu2",
        "outputId": "ef266725-467c-42d7-db81-7b4dd3e2e010"
      },
      "execution_count": null,
      "outputs": [
        {
          "output_type": "execute_result",
          "data": {
            "text/plain": [
              "[[1, 2, 3, 4],\n",
              " (2, 3, 4, 5),\n",
              " {4, 5, 7, 23, 45, 67, 73, 88},\n",
              " {'k1': 'sudh', 'k2': 'ineuron', 'k3': 'kumar'}]"
            ]
          },
          "metadata": {},
          "execution_count": 25
        }
      ]
    },
    {
      "cell_type": "code",
      "source": [
        "# find out all the key values in dict\n",
        "for i in l:\n",
        "    print(i)\n"
      ],
      "metadata": {
        "id": "5QLzs5nnySrF",
        "colab": {
          "base_uri": "https://localhost:8080/"
        },
        "outputId": "12902da6-8c70-4597-971d-cb6cf9183104"
      },
      "execution_count": null,
      "outputs": [
        {
          "output_type": "stream",
          "name": "stdout",
          "text": [
            "[1, 2, 3, 4]\n",
            "(2, 3, 4, 5)\n",
            "{67, 4, 5, 7, 73, 45, 23, 88}\n",
            "{'k1': 'sudh', 'k2': 'ineuron', 'k3': 'kumar'}\n"
          ]
        }
      ]
    },
    {
      "cell_type": "code",
      "source": [
        "#filter out ineuron\n",
        "l=[[1,2,3,4],(2,3,4,5),set([23,4,5,67,73,45,67,7,88]),{'k1':\"sudh\",'k2':\"ineuron\",'k3':\"kumar\"}]\n",
        "for i in l:\n",
        "  if l==\"ineuron\":\n",
        "    print(l[i])"
      ],
      "metadata": {
        "id": "5F5bUi_GzCMK"
      },
      "execution_count": null,
      "outputs": []
    },
    {
      "cell_type": "code",
      "source": [
        "for i in l:\n",
        "  if type(i)== int:\n",
        "    print()\n"
      ],
      "metadata": {
        "colab": {
          "base_uri": "https://localhost:8080/"
        },
        "id": "Zo1AyxVb02CN",
        "outputId": "e73f23a0-26d0-4dd0-b214-fc1db936a335"
      },
      "execution_count": null,
      "outputs": [
        {
          "output_type": "stream",
          "name": "stdout",
          "text": [
            "[1, 2, 3, 4]\n",
            "<built-in method count of list object at 0x7fede068d640>\n",
            "(2, 3, 4, 5)\n",
            "<built-in method count of list object at 0x7fede068d640>\n",
            "{67, 4, 5, 7, 73, 45, 23, 88}\n",
            "<built-in method count of list object at 0x7fede068d640>\n",
            "{'k1': 'sudh', 'k2': 'ineuron', 'k3': 'kumar'}\n",
            "<built-in method count of list object at 0x7fede068d640>\n"
          ]
        }
      ]
    },
    {
      "cell_type": "code",
      "source": [
        "for i in l:\n",
        "  if type(i)==tuple or type(i)==set or type(i)==dict:\n",
        "    if l==int:\n",
        "      if l%2==0:\n",
        "        print(\"no odd no\")\n",
        "    else:\n",
        "      print(l)\n",
        "    "
      ],
      "metadata": {
        "colab": {
          "base_uri": "https://localhost:8080/"
        },
        "id": "XzQZbHE6109j",
        "outputId": "7141387c-2264-4658-ec4c-97e406f10642"
      },
      "execution_count": null,
      "outputs": [
        {
          "output_type": "stream",
          "name": "stdout",
          "text": [
            "[[1, 2, 3, 4], (2, 3, 4, 5), {67, 4, 5, 7, 73, 45, 23, 88}, {'k1': 'sudh', 'k2': 'ineuron', 'k3': 'kumar'}]\n",
            "[[1, 2, 3, 4], (2, 3, 4, 5), {67, 4, 5, 7, 73, 45, 23, 88}, {'k1': 'sudh', 'k2': 'ineuron', 'k3': 'kumar'}]\n",
            "[[1, 2, 3, 4], (2, 3, 4, 5), {67, 4, 5, 7, 73, 45, 23, 88}, {'k1': 'sudh', 'k2': 'ineuron', 'k3': 'kumar'}]\n"
          ]
        }
      ]
    },
    {
      "cell_type": "code",
      "source": [
        ""
      ],
      "metadata": {
        "colab": {
          "base_uri": "https://localhost:8080/"
        },
        "id": "zRHnlPsk8_57",
        "outputId": "c653ff11-d3c1-4af0-a297-6966212be1bb"
      },
      "execution_count": null,
      "outputs": [
        {
          "output_type": "execute_result",
          "data": {
            "text/plain": [
              "{'k1': 'sudh', 'k2': 'ineuron', 'k3': 'kumar'}"
            ]
          },
          "metadata": {},
          "execution_count": 54
        }
      ]
    }
  ]
}